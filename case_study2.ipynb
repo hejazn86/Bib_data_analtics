{
  "cells": [
    {
      "cell_type": "code",
      "execution_count": null,
      "metadata": {
        "_kg_hide-input": true,
        "_kg_hide-output": true,
        "id": "PzZt8T4uQA8n"
      },
      "outputs": [],
      "source": [
        "# For neural network\n",
        "import tensorflow as tf\n",
        "from tensorflow.keras.layers import Dense, Input, Dropout\n",
        "from tensorflow.keras.models import Model\n",
        "from tensorflow.keras.utils import plot_model\n",
        "\n",
        "import numpy as np\n",
        "import pandas as pd\n",
        "from sklearn.preprocessing import LabelEncoder\n",
        "from sklearn.model_selection import train_test_split\n",
        "\n",
        "import matplotlib.pyplot as plt\n",
        "import seaborn as sns\n",
        "import plotly.express as px\n",
        "from sklearn.metrics import *"
      ]
    },
    {
      "cell_type": "markdown",
      "source": [
        "## Read the data"
      ],
      "metadata": {
        "id": "i5s5I9mV9DET"
      }
    },
    {
      "cell_type": "code",
      "execution_count": null,
      "metadata": {
        "_kg_hide-input": true,
        "id": "XSU7HB-QQA8q",
        "colab": {
          "base_uri": "https://localhost:8080/"
        },
        "outputId": "8f7f17df-14bc-4976-a43c-b38379d88d98"
      },
      "outputs": [
        {
          "output_type": "execute_result",
          "data": {
            "text/plain": [
              "Index(['age', 'workclass', 'fnlwgt', 'education', 'education-num',\n",
              "       'marital-status', 'occupation', 'relationship', 'race', 'sex',\n",
              "       'capital-gain', 'capital-loss', 'hours-per-week', 'native-country',\n",
              "       'target'],\n",
              "      dtype='object')"
            ]
          },
          "metadata": {},
          "execution_count": 123
        }
      ],
      "source": [
        "df = pd.read_csv('data1.csv')\n",
        "df.columns"
      ]
    },
    {
      "cell_type": "markdown",
      "source": [
        "## Drop education and native-country columns"
      ],
      "metadata": {
        "id": "5EMQk2-H9PNo"
      }
    },
    {
      "cell_type": "code",
      "source": [
        "df = df.drop(columns=['education', 'native-country'], axis=1)\n",
        "df.info()\n",
        "# df.columns\n",
        "# df.head()"
      ],
      "metadata": {
        "colab": {
          "base_uri": "https://localhost:8080/"
        },
        "id": "yMT0kHm49TXP",
        "outputId": "6dc9cd93-ef42-409e-9169-9629b31db1c5"
      },
      "execution_count": null,
      "outputs": [
        {
          "output_type": "stream",
          "name": "stdout",
          "text": [
            "<class 'pandas.core.frame.DataFrame'>\n",
            "RangeIndex: 32561 entries, 0 to 32560\n",
            "Data columns (total 13 columns):\n",
            " #   Column          Non-Null Count  Dtype \n",
            "---  ------          --------------  ----- \n",
            " 0   age             32561 non-null  int64 \n",
            " 1   workclass       32561 non-null  object\n",
            " 2   fnlwgt          32561 non-null  int64 \n",
            " 3   education-num   32561 non-null  int64 \n",
            " 4   marital-status  32561 non-null  object\n",
            " 5   occupation      32561 non-null  object\n",
            " 6   relationship    32561 non-null  object\n",
            " 7   race            32561 non-null  object\n",
            " 8   sex             32561 non-null  object\n",
            " 9   capital-gain    32561 non-null  int64 \n",
            " 10  capital-loss    32561 non-null  int64 \n",
            " 11  hours-per-week  32561 non-null  int64 \n",
            " 12  target          32561 non-null  object\n",
            "dtypes: int64(6), object(7)\n",
            "memory usage: 3.2+ MB\n"
          ]
        }
      ]
    },
    {
      "cell_type": "markdown",
      "source": [
        "## Combine the occupation in 5 categories"
      ],
      "metadata": {
        "id": "KJNugAzWgW6J"
      }
    },
    {
      "cell_type": "code",
      "source": [
        "dict = {x: str(i) for i , x in enumerate(list(df['occupation'].unique()))}\n",
        "dict\n",
        "encode_occupation = {' ?': '5',\n",
        " ' Adm-clerical': '1',\n",
        " ' Armed-Forces': '4',\n",
        " ' Craft-repair': '3',\n",
        " ' Exec-managerial': '1',\n",
        " ' Farming-fishing': '5',\n",
        " ' Handlers-cleaners': '5',\n",
        " ' Machine-op-inspct': '2',\n",
        " ' Other-service': '5',\n",
        " ' Priv-house-serv': '5',\n",
        " ' Prof-specialty': '1',\n",
        " ' Protective-serv': '4',\n",
        " ' Sales': '3',\n",
        " ' Tech-support': '2',\n",
        " ' Transport-moving': '3'}\n",
        "df.replace({\"occupation\" : encode_occupation}, inplace=True)"
      ],
      "metadata": {
        "id": "jvgEdDijwSqB"
      },
      "execution_count": null,
      "outputs": []
    },
    {
      "cell_type": "code",
      "source": [
        "df['occupation'].value_counts()"
      ],
      "metadata": {
        "colab": {
          "base_uri": "https://localhost:8080/"
        },
        "id": "iomMg-qHOw7-",
        "outputId": "99e60673-57b2-4b63-f5bc-91e2b13c6e1e"
      },
      "execution_count": null,
      "outputs": [
        {
          "output_type": "execute_result",
          "data": {
            "text/plain": [
              "1    11976\n",
              "3     9346\n",
              "5     7651\n",
              "2     2930\n",
              "4      658\n",
              "Name: occupation, dtype: int64"
            ]
          },
          "metadata": {},
          "execution_count": 126
        }
      ]
    },
    {
      "cell_type": "markdown",
      "source": [],
      "metadata": {
        "id": "oIv6_J65CYC9"
      }
    },
    {
      "cell_type": "markdown",
      "metadata": {
        "id": "p34tgIkUQA8t"
      },
      "source": [
        "## Column Statistics (of numerical data)"
      ]
    },
    {
      "cell_type": "code",
      "execution_count": null,
      "metadata": {
        "_kg_hide-input": true,
        "colab": {
          "base_uri": "https://localhost:8080/",
          "height": 237
        },
        "id": "6G7f_tTgQA8t",
        "outputId": "847c0ea7-24fb-4dac-a2d2-e8a93349273d"
      },
      "outputs": [
        {
          "output_type": "execute_result",
          "data": {
            "text/plain": [
              "<pandas.io.formats.style.Styler at 0x7f5f117dd390>"
            ],
            "text/html": [
              "<style type=\"text/css\">\n",
              "#T_cfa17_row0_col0, #T_cfa17_row0_col1, #T_cfa17_row0_col2, #T_cfa17_row0_col3, #T_cfa17_row0_col4, #T_cfa17_row0_col5, #T_cfa17_row0_col6, #T_cfa17_row2_col0, #T_cfa17_row2_col1, #T_cfa17_row2_col2, #T_cfa17_row2_col3, #T_cfa17_row2_col4, #T_cfa17_row2_col5, #T_cfa17_row2_col6, #T_cfa17_row3_col2, #T_cfa17_row3_col3, #T_cfa17_row3_col4, #T_cfa17_row3_col5, #T_cfa17_row4_col0, #T_cfa17_row4_col1, #T_cfa17_row4_col2, #T_cfa17_row4_col3, #T_cfa17_row4_col4, #T_cfa17_row4_col5, #T_cfa17_row4_col6, #T_cfa17_row5_col0, #T_cfa17_row5_col1, #T_cfa17_row5_col2, #T_cfa17_row5_col3, #T_cfa17_row5_col4, #T_cfa17_row5_col5, #T_cfa17_row5_col6 {\n",
              "  background-color: #f7fbff;\n",
              "  color: #000000;\n",
              "}\n",
              "#T_cfa17_row1_col0, #T_cfa17_row1_col1, #T_cfa17_row1_col2, #T_cfa17_row1_col3, #T_cfa17_row1_col4, #T_cfa17_row1_col5, #T_cfa17_row1_col6 {\n",
              "  background-color: #08306b;\n",
              "  color: #f1f1f1;\n",
              "}\n",
              "#T_cfa17_row3_col0 {\n",
              "  background-color: #f6faff;\n",
              "  color: #000000;\n",
              "}\n",
              "#T_cfa17_row3_col1, #T_cfa17_row3_col6 {\n",
              "  background-color: #eaf2fb;\n",
              "  color: #000000;\n",
              "}\n",
              "</style>\n",
              "<table id=\"T_cfa17_\" class=\"dataframe\">\n",
              "  <thead>\n",
              "    <tr>\n",
              "      <th class=\"blank level0\" >&nbsp;</th>\n",
              "      <th class=\"col_heading level0 col0\" >mean</th>\n",
              "      <th class=\"col_heading level0 col1\" >std</th>\n",
              "      <th class=\"col_heading level0 col2\" >min</th>\n",
              "      <th class=\"col_heading level0 col3\" >25%</th>\n",
              "      <th class=\"col_heading level0 col4\" >50%</th>\n",
              "      <th class=\"col_heading level0 col5\" >75%</th>\n",
              "      <th class=\"col_heading level0 col6\" >max</th>\n",
              "    </tr>\n",
              "  </thead>\n",
              "  <tbody>\n",
              "    <tr>\n",
              "      <th id=\"T_cfa17_level0_row0\" class=\"row_heading level0 row0\" >age</th>\n",
              "      <td id=\"T_cfa17_row0_col0\" class=\"data row0 col0\" >38.581647</td>\n",
              "      <td id=\"T_cfa17_row0_col1\" class=\"data row0 col1\" >13.640433</td>\n",
              "      <td id=\"T_cfa17_row0_col2\" class=\"data row0 col2\" >17.000000</td>\n",
              "      <td id=\"T_cfa17_row0_col3\" class=\"data row0 col3\" >28.000000</td>\n",
              "      <td id=\"T_cfa17_row0_col4\" class=\"data row0 col4\" >37.000000</td>\n",
              "      <td id=\"T_cfa17_row0_col5\" class=\"data row0 col5\" >48.000000</td>\n",
              "      <td id=\"T_cfa17_row0_col6\" class=\"data row0 col6\" >90.000000</td>\n",
              "    </tr>\n",
              "    <tr>\n",
              "      <th id=\"T_cfa17_level0_row1\" class=\"row_heading level0 row1\" >fnlwgt</th>\n",
              "      <td id=\"T_cfa17_row1_col0\" class=\"data row1 col0\" >189778.366512</td>\n",
              "      <td id=\"T_cfa17_row1_col1\" class=\"data row1 col1\" >105549.977697</td>\n",
              "      <td id=\"T_cfa17_row1_col2\" class=\"data row1 col2\" >12285.000000</td>\n",
              "      <td id=\"T_cfa17_row1_col3\" class=\"data row1 col3\" >117827.000000</td>\n",
              "      <td id=\"T_cfa17_row1_col4\" class=\"data row1 col4\" >178356.000000</td>\n",
              "      <td id=\"T_cfa17_row1_col5\" class=\"data row1 col5\" >237051.000000</td>\n",
              "      <td id=\"T_cfa17_row1_col6\" class=\"data row1 col6\" >1484705.000000</td>\n",
              "    </tr>\n",
              "    <tr>\n",
              "      <th id=\"T_cfa17_level0_row2\" class=\"row_heading level0 row2\" >education-num</th>\n",
              "      <td id=\"T_cfa17_row2_col0\" class=\"data row2 col0\" >10.080679</td>\n",
              "      <td id=\"T_cfa17_row2_col1\" class=\"data row2 col1\" >2.572720</td>\n",
              "      <td id=\"T_cfa17_row2_col2\" class=\"data row2 col2\" >1.000000</td>\n",
              "      <td id=\"T_cfa17_row2_col3\" class=\"data row2 col3\" >9.000000</td>\n",
              "      <td id=\"T_cfa17_row2_col4\" class=\"data row2 col4\" >10.000000</td>\n",
              "      <td id=\"T_cfa17_row2_col5\" class=\"data row2 col5\" >12.000000</td>\n",
              "      <td id=\"T_cfa17_row2_col6\" class=\"data row2 col6\" >16.000000</td>\n",
              "    </tr>\n",
              "    <tr>\n",
              "      <th id=\"T_cfa17_level0_row3\" class=\"row_heading level0 row3\" >capital-gain</th>\n",
              "      <td id=\"T_cfa17_row3_col0\" class=\"data row3 col0\" >1077.648844</td>\n",
              "      <td id=\"T_cfa17_row3_col1\" class=\"data row3 col1\" >7385.292085</td>\n",
              "      <td id=\"T_cfa17_row3_col2\" class=\"data row3 col2\" >0.000000</td>\n",
              "      <td id=\"T_cfa17_row3_col3\" class=\"data row3 col3\" >0.000000</td>\n",
              "      <td id=\"T_cfa17_row3_col4\" class=\"data row3 col4\" >0.000000</td>\n",
              "      <td id=\"T_cfa17_row3_col5\" class=\"data row3 col5\" >0.000000</td>\n",
              "      <td id=\"T_cfa17_row3_col6\" class=\"data row3 col6\" >99999.000000</td>\n",
              "    </tr>\n",
              "    <tr>\n",
              "      <th id=\"T_cfa17_level0_row4\" class=\"row_heading level0 row4\" >capital-loss</th>\n",
              "      <td id=\"T_cfa17_row4_col0\" class=\"data row4 col0\" >87.303830</td>\n",
              "      <td id=\"T_cfa17_row4_col1\" class=\"data row4 col1\" >402.960219</td>\n",
              "      <td id=\"T_cfa17_row4_col2\" class=\"data row4 col2\" >0.000000</td>\n",
              "      <td id=\"T_cfa17_row4_col3\" class=\"data row4 col3\" >0.000000</td>\n",
              "      <td id=\"T_cfa17_row4_col4\" class=\"data row4 col4\" >0.000000</td>\n",
              "      <td id=\"T_cfa17_row4_col5\" class=\"data row4 col5\" >0.000000</td>\n",
              "      <td id=\"T_cfa17_row4_col6\" class=\"data row4 col6\" >4356.000000</td>\n",
              "    </tr>\n",
              "    <tr>\n",
              "      <th id=\"T_cfa17_level0_row5\" class=\"row_heading level0 row5\" >hours-per-week</th>\n",
              "      <td id=\"T_cfa17_row5_col0\" class=\"data row5 col0\" >40.437456</td>\n",
              "      <td id=\"T_cfa17_row5_col1\" class=\"data row5 col1\" >12.347429</td>\n",
              "      <td id=\"T_cfa17_row5_col2\" class=\"data row5 col2\" >1.000000</td>\n",
              "      <td id=\"T_cfa17_row5_col3\" class=\"data row5 col3\" >40.000000</td>\n",
              "      <td id=\"T_cfa17_row5_col4\" class=\"data row5 col4\" >40.000000</td>\n",
              "      <td id=\"T_cfa17_row5_col5\" class=\"data row5 col5\" >45.000000</td>\n",
              "      <td id=\"T_cfa17_row5_col6\" class=\"data row5 col6\" >99.000000</td>\n",
              "    </tr>\n",
              "  </tbody>\n",
              "</table>\n"
            ]
          },
          "metadata": {},
          "execution_count": 127
        }
      ],
      "source": [
        "df.describe()[1:][['age','fnlwgt','education-num', 'capital-gain', 'capital-loss', 'hours-per-week']].T.style.background_gradient(cmap='Blues')"
      ]
    },
    {
      "cell_type": "markdown",
      "metadata": {
        "id": "VTlDBNEuQA8u"
      },
      "source": [
        "## Column Statistics (of categorical data)"
      ]
    },
    {
      "cell_type": "code",
      "execution_count": null,
      "metadata": {
        "id": "kURrgfQ9QA8u",
        "colab": {
          "base_uri": "https://localhost:8080/",
          "height": 1000
        },
        "outputId": "a4ec9b2f-d36e-4718-9ba1-c93e2065a62e"
      },
      "outputs": [
        {
          "output_type": "display_data",
          "data": {
            "text/plain": [
              "<Figure size 432x288 with 1 Axes>"
            ],
            "image/png": "[encoded data removed]"
          },
          "metadata": {
            "needs_background": "light"
          }
        },
        {
          "output_type": "display_data",
          "data": {
            "text/plain": [
              "<Figure size 432x288 with 1 Axes>"
            ],
            "image/png": "[encoded data removed]"
          },
          "metadata": {
            "needs_background": "light"
          }
        },
        {
          "output_type": "display_data",
          "data": {
            "text/plain": [
              "<Figure size 432x288 with 1 Axes>"
            ],
            "image/png": "[encoded data removed]"
          },
          "metadata": {
            "needs_background": "light"
          }
        },
        {
          "output_type": "display_data",
          "data": {
            "text/plain": [
              "<Figure size 432x288 with 1 Axes>"
            ],
            "image/png": "[encoded data removed]"
          },
          "metadata": {
            "needs_background": "light"
          }
        },
        {
          "output_type": "display_data",
          "data": {
            "text/plain": [
              "<Figure size 432x288 with 1 Axes>"
            ],
            "image/png": "[encoded data removed]"
          },
          "metadata": {
            "needs_background": "light"
          }
        },
        {
          "output_type": "display_data",
          "data": {
            "text/plain": [
              "<Figure size 432x288 with 1 Axes>"
            ],
            "image/png": "[encoded data removed]"
          },
          "metadata": {
            "needs_background": "light"
          }
        },
        {
          "output_type": "display_data",
          "data": {
            "text/plain": [
              "<Figure size 432x288 with 1 Axes>"
            ],
            "image/png": "[encoded data removed]"
          },
          "metadata": {
            "needs_background": "light"
          }
        }
      ],
      "source": [
        "import seaborn as sns\n",
        "categ = ['target', 'workclass', 'marital-status', 'occupation', 'relationship', 'race', 'sex']\n",
        "for nome in categ:\n",
        "    ax = sns.countplot(x=nome, data=df)\n",
        "    plt.show()"
      ]
    },
    {
      "cell_type": "markdown",
      "metadata": {
        "id": "AezkNFBJBo4w"
      },
      "source": [
        "## ENCODING"
      ]
    },
    {
      "cell_type": "code",
      "execution_count": null,
      "metadata": {
        "id": "tuO0Ek_BBjYQ"
      },
      "outputs": [],
      "source": [
        "categB = ['workclass', 'marital-status', 'occupation', 'relationship', 'race', 'sex', 'target']"
      ]
    },
    {
      "cell_type": "code",
      "execution_count": null,
      "metadata": {
        "id": "vUjjE_05fhY5"
      },
      "outputs": [],
      "source": [
        "le = LabelEncoder()\n",
        "for col in categB:\n",
        "    df[col] = le.fit_transform(df[col])\n",
        "\n",
        "# le = LabelEncoder()\n",
        "# for col in categB:\n",
        "#     df[col] = le.fit_transform(df[col])\n",
        "\n",
        "# df.head()"
      ]
    },
    {
      "cell_type": "code",
      "source": [
        "df = pd.get_dummies(df,columns=['workclass', 'marital-status', 'occupation', 'relationship', 'race'],\n",
        "                    prefix=['class','status','occup', 'relation', 'race'])\n",
        "# df.head()"
      ],
      "metadata": {
        "id": "pBsiXXLHjQA1"
      },
      "execution_count": null,
      "outputs": []
    },
    {
      "cell_type": "markdown",
      "metadata": {
        "id": "9i1hoK6ACFZ6"
      },
      "source": [
        "## Split the data tp train and validation data"
      ]
    },
    {
      "cell_type": "code",
      "execution_count": null,
      "metadata": {
        "colab": {
          "base_uri": "https://localhost:8080/"
        },
        "id": "LyxCU8-v25gO",
        "outputId": "67b85659-b7a5-4a9b-d15f-338e8811fda5"
      },
      "outputs": [
        {
          "output_type": "stream",
          "name": "stdout",
          "text": [
            "0    17303\n",
            "1     5489\n",
            "Name: target, dtype: int64\n",
            "0    7417\n",
            "1    2352\n",
            "Name: target, dtype: int64\n"
          ]
        }
      ],
      "source": [
        "train_df, val_df = train_test_split(df, test_size=0.3, stratify=df['target'], random_state=123)\n",
        "print(train_df['target'].value_counts())\n",
        "print(val_df['target'].value_counts())"
      ]
    },
    {
      "cell_type": "markdown",
      "metadata": {
        "id": "SwUTqwE5CTUm"
      },
      "source": [
        "## BALANCE CLASSES by resampling from the data"
      ]
    },
    {
      "cell_type": "code",
      "execution_count": null,
      "metadata": {
        "id": "zVfRDezm5CFZ"
      },
      "outputs": [],
      "source": [
        "class_0 =train_df[train_df['target']==0]\n",
        "class_1 =train_df[train_df['target']==1]\n",
        "aug = class_1.sample(len(class_0),replace=True)"
      ]
    },
    {
      "cell_type": "code",
      "execution_count": null,
      "metadata": {
        "id": "t0IOvpDk6UUW",
        "colab": {
          "base_uri": "https://localhost:8080/",
          "height": 334
        },
        "outputId": "6115ea3d-2f91-4fa9-ab5a-bdad960965cc"
      },
      "outputs": [
        {
          "output_type": "execute_result",
          "data": {
            "text/plain": [
              "       age  fnlwgt  education-num  sex  capital-gain  capital-loss  \\\n",
              "31955   46  267952             11    0             0             0   \n",
              "4817    27  116531             13    0             0             0   \n",
              "11002   25  197036              6    1             0             0   \n",
              "20174   21  207103              9    1             0             0   \n",
              "29969   48  207817              9    0             0             0   \n",
              "\n",
              "       hours-per-week  target  class_0  class_1  ...  relation_1  relation_2  \\\n",
              "31955              36       0        0        0  ...           1           0   \n",
              "4817               40       0        0        0  ...           1           0   \n",
              "11002              40       0        0        0  ...           0           0   \n",
              "20174              40       0        0        0  ...           0           0   \n",
              "29969              32       0        0        0  ...           1           0   \n",
              "\n",
              "       relation_3  relation_4  relation_5  race_0  race_1  race_2  race_3  \\\n",
              "31955           0           0           0       0       0       0       0   \n",
              "4817            0           0           0       0       0       0       0   \n",
              "11002           1           0           0       0       0       0       0   \n",
              "20174           1           0           0       0       0       0       0   \n",
              "29969           0           0           0       0       0       0       0   \n",
              "\n",
              "       race_4  \n",
              "31955       1  \n",
              "4817        1  \n",
              "11002       1  \n",
              "20174       1  \n",
              "29969       1  \n",
              "\n",
              "[5 rows x 40 columns]"
            ],
            "text/html": [
              "\n",
              "  <div id=\"df-2eb34ad6-e365-4b09-9ba7-b37fbbe7c43e\">\n",
              "    <div class=\"colab-df-container\">\n",
              "      <div>\n",
              "<style scoped>\n",
              "    .dataframe tbody tr th:only-of-type {\n",
              "        vertical-align: middle;\n",
              "    }\n",
              "\n",
              "    .dataframe tbody tr th {\n",
              "        vertical-align: top;\n",
              "    }\n",
              "\n",
              "    .dataframe thead th {\n",
              "        text-align: right;\n",
              "    }\n",
              "</style>\n",
              "<table border=\"1\" class=\"dataframe\">\n",
              "  <thead>\n",
              "    <tr style=\"text-align: right;\">\n",
              "      <th></th>\n",
              "      <th>age</th>\n",
              "      <th>fnlwgt</th>\n",
              "      <th>education-num</th>\n",
              "      <th>sex</th>\n",
              "      <th>capital-gain</th>\n",
              "      <th>capital-loss</th>\n",
              "      <th>hours-per-week</th>\n",
              "      <th>target</th>\n",
              "      <th>class_0</th>\n",
              "      <th>class_1</th>\n",
              "      <th>...</th>\n",
              "      <th>relation_1</th>\n",
              "      <th>relation_2</th>\n",
              "      <th>relation_3</th>\n",
              "      <th>relation_4</th>\n",
              "      <th>relation_5</th>\n",
              "      <th>race_0</th>\n",
              "      <th>race_1</th>\n",
              "      <th>race_2</th>\n",
              "      <th>race_3</th>\n",
              "      <th>race_4</th>\n",
              "    </tr>\n",
              "  </thead>\n",
              "  <tbody>\n",
              "    <tr>\n",
              "      <th>31955</th>\n",
              "      <td>46</td>\n",
              "      <td>267952</td>\n",
              "      <td>11</td>\n",
              "      <td>0</td>\n",
              "      <td>0</td>\n",
              "      <td>0</td>\n",
              "      <td>36</td>\n",
              "      <td>0</td>\n",
              "      <td>0</td>\n",
              "      <td>0</td>\n",
              "      <td>...</td>\n",
              "      <td>1</td>\n",
              "      <td>0</td>\n",
              "      <td>0</td>\n",
              "      <td>0</td>\n",
              "      <td>0</td>\n",
              "      <td>0</td>\n",
              "      <td>0</td>\n",
              "      <td>0</td>\n",
              "      <td>0</td>\n",
              "      <td>1</td>\n",
              "    </tr>\n",
              "    <tr>\n",
              "      <th>4817</th>\n",
              "      <td>27</td>\n",
              "      <td>116531</td>\n",
              "      <td>13</td>\n",
              "      <td>0</td>\n",
              "      <td>0</td>\n",
              "      <td>0</td>\n",
              "      <td>40</td>\n",
              "      <td>0</td>\n",
              "      <td>0</td>\n",
              "      <td>0</td>\n",
              "      <td>...</td>\n",
              "      <td>1</td>\n",
              "      <td>0</td>\n",
              "      <td>0</td>\n",
              "      <td>0</td>\n",
              "      <td>0</td>\n",
              "      <td>0</td>\n",
              "      <td>0</td>\n",
              "      <td>0</td>\n",
              "      <td>0</td>\n",
              "      <td>1</td>\n",
              "    </tr>\n",
              "    <tr>\n",
              "      <th>11002</th>\n",
              "      <td>25</td>\n",
              "      <td>197036</td>\n",
              "      <td>6</td>\n",
              "      <td>1</td>\n",
              "      <td>0</td>\n",
              "      <td>0</td>\n",
              "      <td>40</td>\n",
              "      <td>0</td>\n",
              "      <td>0</td>\n",
              "      <td>0</td>\n",
              "      <td>...</td>\n",
              "      <td>0</td>\n",
              "      <td>0</td>\n",
              "      <td>1</td>\n",
              "      <td>0</td>\n",
              "      <td>0</td>\n",
              "      <td>0</td>\n",
              "      <td>0</td>\n",
              "      <td>0</td>\n",
              "      <td>0</td>\n",
              "      <td>1</td>\n",
              "    </tr>\n",
              "    <tr>\n",
              "      <th>20174</th>\n",
              "      <td>21</td>\n",
              "      <td>207103</td>\n",
              "      <td>9</td>\n",
              "      <td>1</td>\n",
              "      <td>0</td>\n",
              "      <td>0</td>\n",
              "      <td>40</td>\n",
              "      <td>0</td>\n",
              "      <td>0</td>\n",
              "      <td>0</td>\n",
              "      <td>...</td>\n",
              "      <td>0</td>\n",
              "      <td>0</td>\n",
              "      <td>1</td>\n",
              "      <td>0</td>\n",
              "      <td>0</td>\n",
              "      <td>0</td>\n",
              "      <td>0</td>\n",
              "      <td>0</td>\n",
              "      <td>0</td>\n",
              "      <td>1</td>\n",
              "    </tr>\n",
              "    <tr>\n",
              "      <th>29969</th>\n",
              "      <td>48</td>\n",
              "      <td>207817</td>\n",
              "      <td>9</td>\n",
              "      <td>0</td>\n",
              "      <td>0</td>\n",
              "      <td>0</td>\n",
              "      <td>32</td>\n",
              "      <td>0</td>\n",
              "      <td>0</td>\n",
              "      <td>0</td>\n",
              "      <td>...</td>\n",
              "      <td>1</td>\n",
              "      <td>0</td>\n",
              "      <td>0</td>\n",
              "      <td>0</td>\n",
              "      <td>0</td>\n",
              "      <td>0</td>\n",
              "      <td>0</td>\n",
              "      <td>0</td>\n",
              "      <td>0</td>\n",
              "      <td>1</td>\n",
              "    </tr>\n",
              "  </tbody>\n",
              "</table>\n",
              "<p>5 rows × 40 columns</p>\n",
              "</div>\n",
              "      <button class=\"colab-df-convert\" onclick=\"convertToInteractive('df-2eb34ad6-e365-4b09-9ba7-b37fbbe7c43e')\"\n",
              "              title=\"Convert this dataframe to an interactive table.\"\n",
              "              style=\"display:none;\">\n",
              "        \n",
              "  <svg xmlns=\"http://www.w3.org/2000/svg\" height=\"24px\"viewBox=\"0 0 24 24\"\n",
              "       width=\"24px\">\n",
              "    <path d=\"M0 0h24v24H0V0z\" fill=\"none\"/>\n",
              "    <path d=\"M18.56 5.44l.94 2.06.94-2.06 2.06-.94-2.06-.94-.94-2.06-.94 2.06-2.06.94zm-11 1L8.5 8.5l.94-2.06 2.06-.94-2.06-.94L8.5 2.5l-.94 2.06-2.06.94zm10 10l.94 2.06.94-2.06 2.06-.94-2.06-.94-.94-2.06-.94 2.06-2.06.94z\"/><path d=\"M17.41 7.96l-1.37-1.37c-.4-.4-.92-.59-1.43-.59-.52 0-1.04.2-1.43.59L10.3 9.45l-7.72 7.72c-.78.78-.78 2.05 0 2.83L4 21.41c.39.39.9.59 1.41.59.51 0 1.02-.2 1.41-.59l7.78-7.78 2.81-2.81c.8-.78.8-2.07 0-2.86zM5.41 20L4 18.59l7.72-7.72 1.47 1.35L5.41 20z\"/>\n",
              "  </svg>\n",
              "      </button>\n",
              "      \n",
              "  <style>\n",
              "    .colab-df-container {\n",
              "      display:flex;\n",
              "      flex-wrap:wrap;\n",
              "      gap: 12px;\n",
              "    }\n",
              "\n",
              "    .colab-df-convert {\n",
              "      background-color: #E8F0FE;\n",
              "      border: none;\n",
              "      border-radius: 50%;\n",
              "      cursor: pointer;\n",
              "      display: none;\n",
              "      fill: #1967D2;\n",
              "      height: 32px;\n",
              "      padding: 0 0 0 0;\n",
              "      width: 32px;\n",
              "    }\n",
              "\n",
              "    .colab-df-convert:hover {\n",
              "      background-color: #E2EBFA;\n",
              "      box-shadow: 0px 1px 2px rgba(60, 64, 67, 0.3), 0px 1px 3px 1px rgba(60, 64, 67, 0.15);\n",
              "      fill: #174EA6;\n",
              "    }\n",
              "\n",
              "    [theme=dark] .colab-df-convert {\n",
              "      background-color: #3B4455;\n",
              "      fill: #D2E3FC;\n",
              "    }\n",
              "\n",
              "    [theme=dark] .colab-df-convert:hover {\n",
              "      background-color: #434B5C;\n",
              "      box-shadow: 0px 1px 3px 1px rgba(0, 0, 0, 0.15);\n",
              "      filter: drop-shadow(0px 1px 2px rgba(0, 0, 0, 0.3));\n",
              "      fill: #FFFFFF;\n",
              "    }\n",
              "  </style>\n",
              "\n",
              "      <script>\n",
              "        const buttonEl =\n",
              "          document.querySelector('#df-2eb34ad6-e365-4b09-9ba7-b37fbbe7c43e button.colab-df-convert');\n",
              "        buttonEl.style.display =\n",
              "          google.colab.kernel.accessAllowed ? 'block' : 'none';\n",
              "\n",
              "        async function convertToInteractive(key) {\n",
              "          const element = document.querySelector('#df-2eb34ad6-e365-4b09-9ba7-b37fbbe7c43e');\n",
              "          const dataTable =\n",
              "            await google.colab.kernel.invokeFunction('convertToInteractive',\n",
              "                                                     [key], {});\n",
              "          if (!dataTable) return;\n",
              "\n",
              "          const docLinkHtml = 'Like what you see? Visit the ' +\n",
              "            '<a target=\"_blank\" href=https://colab.research.google.com/notebooks/data_table.ipynb>data table notebook</a>'\n",
              "            + ' to learn more about interactive tables.';\n",
              "          element.innerHTML = '';\n",
              "          dataTable['output_type'] = 'display_data';\n",
              "          await google.colab.output.renderOutput(dataTable, element);\n",
              "          const docLink = document.createElement('div');\n",
              "          docLink.innerHTML = docLinkHtml;\n",
              "          element.appendChild(docLink);\n",
              "        }\n",
              "      </script>\n",
              "    </div>\n",
              "  </div>\n",
              "  "
            ]
          },
          "metadata": {},
          "execution_count": 134
        }
      ],
      "source": [
        "train_df = pd.concat([class_0,aug],axis=0)\n",
        "train_df.head()"
      ]
    },
    {
      "cell_type": "code",
      "execution_count": null,
      "metadata": {
        "id": "NkKtHNJz7Lcr",
        "colab": {
          "base_uri": "https://localhost:8080/"
        },
        "outputId": "624578a7-9d92-4c5d-8ab4-24e33a8a3308"
      },
      "outputs": [
        {
          "output_type": "stream",
          "name": "stdout",
          "text": [
            "0    17303\n",
            "1    17303\n",
            "Name: target, dtype: int64\n"
          ]
        },
        {
          "output_type": "execute_result",
          "data": {
            "text/plain": [
              "Index(['age', 'fnlwgt', 'education-num', 'sex', 'capital-gain', 'capital-loss',\n",
              "       'hours-per-week', 'target', 'class_0', 'class_1', 'class_2', 'class_3',\n",
              "       'class_4', 'class_5', 'class_6', 'class_7', 'class_8', 'status_0',\n",
              "       'status_1', 'status_2', 'status_3', 'status_4', 'status_5', 'status_6',\n",
              "       'occup_0', 'occup_1', 'occup_2', 'occup_3', 'occup_4', 'relation_0',\n",
              "       'relation_1', 'relation_2', 'relation_3', 'relation_4', 'relation_5',\n",
              "       'race_0', 'race_1', 'race_2', 'race_3', 'race_4'],\n",
              "      dtype='object')"
            ]
          },
          "metadata": {},
          "execution_count": 135
        }
      ],
      "source": [
        "print(train_df['target'].value_counts())\n",
        "train_df.columns"
      ]
    },
    {
      "cell_type": "markdown",
      "metadata": {
        "id": "dTVsjRIOCoOs"
      },
      "source": [
        "## Seperate the target"
      ]
    },
    {
      "cell_type": "code",
      "execution_count": null,
      "metadata": {
        "id": "SVWOFelN8gHR"
      },
      "outputs": [],
      "source": [
        "#  train data\n",
        "y_train = train_df['target']\n",
        "x_train = train_df.drop(labels=['target'],axis=1)\n"
      ]
    },
    {
      "cell_type": "code",
      "execution_count": null,
      "metadata": {
        "id": "XDFfMDRW9Ykb"
      },
      "outputs": [],
      "source": [
        "# validation data\n",
        "y_val = val_df['target']\n",
        "x_val = val_df.drop(labels=['target'],axis=1)\n",
        "# x_val\n"
      ]
    },
    {
      "cell_type": "markdown",
      "source": [
        "# Build a Feedforward neural network"
      ],
      "metadata": {
        "id": "PbfDgP4hryPV"
      }
    },
    {
      "cell_type": "code",
      "source": [
        "inp = Input(39)\n",
        "x = Dense(16, activation='elu')(inp)\n",
        "x = Dense(16, activation='elu')(x)\n",
        "x = Dense(32, activation='elu')(x)\n",
        "x = Dense(32, activation='elu')(x)\n",
        "x = Dense(64, activation='elu')(x)\n",
        "x = Dense(64, activation='elu')(x)\n",
        "x = Dense(128, activation='elu')(x)\n",
        "x = Dense(128, activation='elu')(x)\n",
        "output = Dense(1, activation='sigmoid')(x)\n",
        "\n",
        "model = Model(inp, output)\n",
        "\n",
        "model.summary()\n",
        "plot_model(model)\n",
        "\n"
      ],
      "metadata": {
        "colab": {
          "base_uri": "https://localhost:8080/",
          "height": 1000
        },
        "id": "I_WtDmkDrxdZ",
        "outputId": "d8985ad7-479c-4cac-e938-7501332b5fca"
      },
      "execution_count": null,
      "outputs": [
        {
          "output_type": "stream",
          "name": "stdout",
          "text": [
            "Model: \"model_10\"\n",
            "_________________________________________________________________\n",
            " Layer (type)                Output Shape              Param #   \n",
            "=================================================================\n",
            " input_11 (InputLayer)       [(None, 39)]              0         \n",
            "                                                                 \n",
            " dense_76 (Dense)            (None, 16)                640       \n",
            "                                                                 \n",
            " dense_77 (Dense)            (None, 16)                272       \n",
            "                                                                 \n",
            " dense_78 (Dense)            (None, 32)                544       \n",
            "                                                                 \n",
            " dense_79 (Dense)            (None, 32)                1056      \n",
            "                                                                 \n",
            " dense_80 (Dense)            (None, 64)                2112      \n",
            "                                                                 \n",
            " dense_81 (Dense)            (None, 64)                4160      \n",
            "                                                                 \n",
            " dense_82 (Dense)            (None, 128)               8320      \n",
            "                                                                 \n",
            " dense_83 (Dense)            (None, 128)               16512     \n",
            "                                                                 \n",
            " dense_84 (Dense)            (None, 1)                 129       \n",
            "                                                                 \n",
            "=================================================================\n",
            "Total params: 33,745\n",
            "Trainable params: 33,745\n",
            "Non-trainable params: 0\n",
            "_________________________________________________________________\n"
          ]
        },
        {
          "output_type": "execute_result",
          "data": {
            "text/plain": [
              "<IPython.core.display.Image object>"
            ],
            "image/png": "[encoded data removed]"
          },
          "metadata": {},
          "execution_count": 207
        }
      ]
    },
    {
      "cell_type": "markdown",
      "source": [
        "## Compile and train the network"
      ],
      "metadata": {
        "id": "SR7wO13hteBu"
      }
    },
    {
      "cell_type": "code",
      "source": [
        "from tensorflow.keras.optimizers import Adam\n",
        "opt = Adam(learning_rate=1e-04)\n",
        "model.compile(optimizer= opt, loss='binary_crossentropy', metrics=['accuracy'])\n",
        "history = model.fit(x_train, y_train, epochs=120, validation_data=(x_val, y_val))"
      ],
      "metadata": {
        "colab": {
          "base_uri": "https://localhost:8080/"
        },
        "id": "lsXsCNNctdM6",
        "outputId": "f0b4060a-1d7d-4683-aab1-f615dec3f278"
      },
      "execution_count": null,
      "outputs": [
        {
          "output_type": "stream",
          "name": "stdout",
          "text": [
            "Epoch 1/120\n",
            "1082/1082 [==============================] - 7s 5ms/step - loss: 7.6113 - accuracy: 0.5383 - val_loss: 10.9632 - val_accuracy: 0.2408\n",
            "Epoch 2/120\n",
            "1082/1082 [==============================] - 4s 4ms/step - loss: 5.1658 - accuracy: 0.5470 - val_loss: 0.7234 - val_accuracy: 0.7891\n",
            "Epoch 3/120\n",
            "1082/1082 [==============================] - 4s 4ms/step - loss: 3.8721 - accuracy: 0.5507 - val_loss: 8.0370 - val_accuracy: 0.2408\n",
            "Epoch 4/120\n",
            "1082/1082 [==============================] - 4s 4ms/step - loss: 3.0868 - accuracy: 0.5542 - val_loss: 0.7668 - val_accuracy: 0.7855\n",
            "Epoch 5/120\n",
            "1082/1082 [==============================] - 4s 4ms/step - loss: 2.3388 - accuracy: 0.5596 - val_loss: 1.4357 - val_accuracy: 0.7979\n",
            "Epoch 6/120\n",
            "1082/1082 [==============================] - 4s 4ms/step - loss: 2.3075 - accuracy: 0.5567 - val_loss: 2.1732 - val_accuracy: 0.2438\n",
            "Epoch 7/120\n",
            "1082/1082 [==============================] - 4s 4ms/step - loss: 1.9521 - accuracy: 0.5593 - val_loss: 3.8808 - val_accuracy: 0.2408\n",
            "Epoch 8/120\n",
            "1082/1082 [==============================] - 4s 4ms/step - loss: 1.6988 - accuracy: 0.5622 - val_loss: 3.9195 - val_accuracy: 0.2408\n",
            "Epoch 9/120\n",
            "1082/1082 [==============================] - 4s 4ms/step - loss: 1.6084 - accuracy: 0.5599 - val_loss: 1.0711 - val_accuracy: 0.2786\n",
            "Epoch 10/120\n",
            "1082/1082 [==============================] - 4s 4ms/step - loss: 1.4807 - accuracy: 0.5631 - val_loss: 0.9164 - val_accuracy: 0.2936\n",
            "Epoch 11/120\n",
            "1082/1082 [==============================] - 4s 4ms/step - loss: 1.2136 - accuracy: 0.5653 - val_loss: 2.9897 - val_accuracy: 0.2408\n",
            "Epoch 12/120\n",
            "1082/1082 [==============================] - 4s 4ms/step - loss: 1.0791 - accuracy: 0.5599 - val_loss: 1.2117 - val_accuracy: 0.2672\n",
            "Epoch 13/120\n",
            "1082/1082 [==============================] - 4s 4ms/step - loss: 1.0532 - accuracy: 0.5652 - val_loss: 0.7933 - val_accuracy: 0.7966\n",
            "Epoch 14/120\n",
            "1082/1082 [==============================] - 4s 4ms/step - loss: 1.0275 - accuracy: 0.5652 - val_loss: 0.9537 - val_accuracy: 0.2969\n",
            "Epoch 15/120\n",
            "1082/1082 [==============================] - 4s 4ms/step - loss: 0.8693 - accuracy: 0.5696 - val_loss: 0.6302 - val_accuracy: 0.7868\n",
            "Epoch 16/120\n",
            "1082/1082 [==============================] - 4s 4ms/step - loss: 0.8136 - accuracy: 0.5692 - val_loss: 0.5059 - val_accuracy: 0.8011\n",
            "Epoch 17/120\n",
            "1082/1082 [==============================] - 4s 4ms/step - loss: 0.7927 - accuracy: 0.5735 - val_loss: 1.1041 - val_accuracy: 0.2531\n",
            "Epoch 18/120\n",
            "1082/1082 [==============================] - 4s 4ms/step - loss: 0.7698 - accuracy: 0.5769 - val_loss: 1.3890 - val_accuracy: 0.2658\n",
            "Epoch 19/120\n",
            "1082/1082 [==============================] - 4s 4ms/step - loss: 0.7575 - accuracy: 0.5806 - val_loss: 0.7383 - val_accuracy: 0.4088\n",
            "Epoch 20/120\n",
            "1082/1082 [==============================] - 4s 4ms/step - loss: 0.6968 - accuracy: 0.5850 - val_loss: 0.6495 - val_accuracy: 0.7860\n",
            "Epoch 21/120\n",
            "1082/1082 [==============================] - 4s 4ms/step - loss: 0.7211 - accuracy: 0.5859 - val_loss: 0.5127 - val_accuracy: 0.8025\n",
            "Epoch 22/120\n",
            "1082/1082 [==============================] - 4s 4ms/step - loss: 0.7004 - accuracy: 0.5839 - val_loss: 0.5079 - val_accuracy: 0.8018\n",
            "Epoch 23/120\n",
            "1082/1082 [==============================] - 4s 4ms/step - loss: 0.6765 - accuracy: 0.5898 - val_loss: 0.7779 - val_accuracy: 0.3250\n",
            "Epoch 24/120\n",
            "1082/1082 [==============================] - 4s 4ms/step - loss: 0.6737 - accuracy: 0.5932 - val_loss: 0.5898 - val_accuracy: 0.7924\n",
            "Epoch 25/120\n",
            "1082/1082 [==============================] - 4s 4ms/step - loss: 0.6687 - accuracy: 0.5906 - val_loss: 0.7527 - val_accuracy: 0.3098\n",
            "Epoch 26/120\n",
            "1082/1082 [==============================] - 4s 4ms/step - loss: 0.6633 - accuracy: 0.5972 - val_loss: 0.4933 - val_accuracy: 0.7974\n",
            "Epoch 27/120\n",
            "1082/1082 [==============================] - 4s 4ms/step - loss: 0.6537 - accuracy: 0.5971 - val_loss: 0.9290 - val_accuracy: 0.3137\n",
            "Epoch 28/120\n",
            "1082/1082 [==============================] - 4s 4ms/step - loss: 0.6368 - accuracy: 0.6050 - val_loss: 0.5785 - val_accuracy: 0.7867\n",
            "Epoch 29/120\n",
            "1082/1082 [==============================] - 4s 4ms/step - loss: 0.6329 - accuracy: 0.6082 - val_loss: 0.5009 - val_accuracy: 0.7902\n",
            "Epoch 30/120\n",
            "1082/1082 [==============================] - 4s 4ms/step - loss: 0.6326 - accuracy: 0.6103 - val_loss: 0.6055 - val_accuracy: 0.7863\n",
            "Epoch 31/120\n",
            "1082/1082 [==============================] - 4s 4ms/step - loss: 0.6255 - accuracy: 0.6141 - val_loss: 0.4961 - val_accuracy: 0.7943\n",
            "Epoch 32/120\n",
            "1082/1082 [==============================] - 4s 4ms/step - loss: 0.6231 - accuracy: 0.6181 - val_loss: 0.5003 - val_accuracy: 0.8077\n",
            "Epoch 33/120\n",
            "1082/1082 [==============================] - 4s 4ms/step - loss: 0.6201 - accuracy: 0.6192 - val_loss: 0.7591 - val_accuracy: 0.2626\n",
            "Epoch 34/120\n",
            "1082/1082 [==============================] - 4s 4ms/step - loss: 0.6192 - accuracy: 0.6216 - val_loss: 0.5588 - val_accuracy: 0.7966\n",
            "Epoch 35/120\n",
            "1082/1082 [==============================] - 4s 4ms/step - loss: 0.6104 - accuracy: 0.6246 - val_loss: 0.7042 - val_accuracy: 0.4398\n",
            "Epoch 36/120\n",
            "1082/1082 [==============================] - 4s 4ms/step - loss: 0.6112 - accuracy: 0.6288 - val_loss: 0.5041 - val_accuracy: 0.8026\n",
            "Epoch 37/120\n",
            "1082/1082 [==============================] - 4s 4ms/step - loss: 0.6070 - accuracy: 0.6336 - val_loss: 0.6046 - val_accuracy: 0.7030\n",
            "Epoch 38/120\n",
            "1082/1082 [==============================] - 4s 4ms/step - loss: 0.6089 - accuracy: 0.6291 - val_loss: 0.9012 - val_accuracy: 0.2811\n",
            "Epoch 39/120\n",
            "1082/1082 [==============================] - 4s 4ms/step - loss: 0.6065 - accuracy: 0.6349 - val_loss: 0.6133 - val_accuracy: 0.7413\n",
            "Epoch 40/120\n",
            "1082/1082 [==============================] - 4s 4ms/step - loss: 0.5968 - accuracy: 0.6433 - val_loss: 0.7496 - val_accuracy: 0.3759\n",
            "Epoch 41/120\n",
            "1082/1082 [==============================] - 4s 4ms/step - loss: 0.6048 - accuracy: 0.6378 - val_loss: 0.5662 - val_accuracy: 0.7637\n",
            "Epoch 42/120\n",
            "1082/1082 [==============================] - 4s 4ms/step - loss: 0.6014 - accuracy: 0.6377 - val_loss: 0.5441 - val_accuracy: 0.7959\n",
            "Epoch 43/120\n",
            "1082/1082 [==============================] - 4s 4ms/step - loss: 0.5955 - accuracy: 0.6441 - val_loss: 0.9512 - val_accuracy: 0.2570\n",
            "Epoch 44/120\n",
            "1082/1082 [==============================] - 4s 4ms/step - loss: 0.5962 - accuracy: 0.6463 - val_loss: 0.4996 - val_accuracy: 0.7867\n",
            "Epoch 45/120\n",
            "1082/1082 [==============================] - 4s 4ms/step - loss: 0.5922 - accuracy: 0.6507 - val_loss: 0.5646 - val_accuracy: 0.7599\n",
            "Epoch 46/120\n",
            "1082/1082 [==============================] - 4s 4ms/step - loss: 0.5800 - accuracy: 0.6636 - val_loss: 0.5323 - val_accuracy: 0.7483\n",
            "Epoch 47/120\n",
            "1082/1082 [==============================] - 4s 4ms/step - loss: 0.5751 - accuracy: 0.6728 - val_loss: 0.4991 - val_accuracy: 0.8038\n",
            "Epoch 48/120\n",
            "1082/1082 [==============================] - 4s 4ms/step - loss: 0.5870 - accuracy: 0.6645 - val_loss: 0.4776 - val_accuracy: 0.7953\n",
            "Epoch 49/120\n",
            "1082/1082 [==============================] - 4s 4ms/step - loss: 0.5672 - accuracy: 0.6816 - val_loss: 0.8556 - val_accuracy: 0.3343\n",
            "Epoch 50/120\n",
            "1082/1082 [==============================] - 4s 4ms/step - loss: 0.5595 - accuracy: 0.6893 - val_loss: 0.4282 - val_accuracy: 0.7983\n",
            "Epoch 51/120\n",
            "1082/1082 [==============================] - 4s 4ms/step - loss: 0.5494 - accuracy: 0.6951 - val_loss: 0.4430 - val_accuracy: 0.7825\n",
            "Epoch 52/120\n",
            "1082/1082 [==============================] - 4s 4ms/step - loss: 0.5480 - accuracy: 0.6993 - val_loss: 0.4627 - val_accuracy: 0.7901\n",
            "Epoch 53/120\n",
            "1082/1082 [==============================] - 4s 4ms/step - loss: 0.5376 - accuracy: 0.7129 - val_loss: 0.4023 - val_accuracy: 0.7916\n",
            "Epoch 54/120\n",
            "1082/1082 [==============================] - 4s 4ms/step - loss: 0.5352 - accuracy: 0.7085 - val_loss: 0.4113 - val_accuracy: 0.8050\n",
            "Epoch 55/120\n",
            "1082/1082 [==============================] - 4s 4ms/step - loss: 0.5357 - accuracy: 0.7104 - val_loss: 0.5190 - val_accuracy: 0.7605\n",
            "Epoch 56/120\n",
            "1082/1082 [==============================] - 4s 4ms/step - loss: 0.5203 - accuracy: 0.7248 - val_loss: 0.5706 - val_accuracy: 0.6722\n",
            "Epoch 57/120\n",
            "1082/1082 [==============================] - 4s 4ms/step - loss: 0.5147 - accuracy: 0.7287 - val_loss: 0.5818 - val_accuracy: 0.7197\n",
            "Epoch 58/120\n",
            "1082/1082 [==============================] - 4s 4ms/step - loss: 0.5235 - accuracy: 0.7229 - val_loss: 0.7741 - val_accuracy: 0.4976\n",
            "Epoch 59/120\n",
            "1082/1082 [==============================] - 4s 4ms/step - loss: 0.5225 - accuracy: 0.7230 - val_loss: 1.0218 - val_accuracy: 0.3722\n",
            "Epoch 60/120\n",
            "1082/1082 [==============================] - 4s 4ms/step - loss: 0.5100 - accuracy: 0.7353 - val_loss: 0.7287 - val_accuracy: 0.5440\n",
            "Epoch 61/120\n",
            "1082/1082 [==============================] - 4s 4ms/step - loss: 0.5297 - accuracy: 0.7252 - val_loss: 0.4450 - val_accuracy: 0.7915\n",
            "Epoch 62/120\n",
            "1082/1082 [==============================] - 4s 4ms/step - loss: 0.5174 - accuracy: 0.7313 - val_loss: 0.3929 - val_accuracy: 0.8017\n",
            "Epoch 63/120\n",
            "1082/1082 [==============================] - 4s 4ms/step - loss: 0.5121 - accuracy: 0.7324 - val_loss: 0.4464 - val_accuracy: 0.7754\n",
            "Epoch 64/120\n",
            "1082/1082 [==============================] - 4s 4ms/step - loss: 0.5181 - accuracy: 0.7280 - val_loss: 0.3964 - val_accuracy: 0.8017\n",
            "Epoch 65/120\n",
            "1082/1082 [==============================] - 4s 4ms/step - loss: 0.5032 - accuracy: 0.7408 - val_loss: 0.4131 - val_accuracy: 0.8045\n",
            "Epoch 66/120\n",
            "1082/1082 [==============================] - 4s 4ms/step - loss: 0.5077 - accuracy: 0.7363 - val_loss: 0.6597 - val_accuracy: 0.5691\n",
            "Epoch 67/120\n",
            "1082/1082 [==============================] - 4s 4ms/step - loss: 0.5039 - accuracy: 0.7382 - val_loss: 0.5702 - val_accuracy: 0.6522\n",
            "Epoch 68/120\n",
            "1082/1082 [==============================] - 4s 4ms/step - loss: 0.5059 - accuracy: 0.7379 - val_loss: 0.6005 - val_accuracy: 0.6575\n",
            "Epoch 69/120\n",
            "1082/1082 [==============================] - 4s 4ms/step - loss: 0.5020 - accuracy: 0.7415 - val_loss: 0.3836 - val_accuracy: 0.8036\n",
            "Epoch 70/120\n",
            "1082/1082 [==============================] - 4s 4ms/step - loss: 0.4985 - accuracy: 0.7445 - val_loss: 0.3835 - val_accuracy: 0.8048\n",
            "Epoch 71/120\n",
            "1082/1082 [==============================] - 4s 4ms/step - loss: 0.5035 - accuracy: 0.7392 - val_loss: 0.3848 - val_accuracy: 0.8017\n",
            "Epoch 72/120\n",
            "1082/1082 [==============================] - 4s 4ms/step - loss: 0.4954 - accuracy: 0.7473 - val_loss: 0.4021 - val_accuracy: 0.7962\n",
            "Epoch 73/120\n",
            "1082/1082 [==============================] - 4s 4ms/step - loss: 0.4994 - accuracy: 0.7433 - val_loss: 0.5198 - val_accuracy: 0.7219\n",
            "Epoch 74/120\n",
            "1082/1082 [==============================] - 4s 4ms/step - loss: 0.4966 - accuracy: 0.7481 - val_loss: 0.5500 - val_accuracy: 0.6854\n",
            "Epoch 75/120\n",
            "1082/1082 [==============================] - 4s 4ms/step - loss: 0.4897 - accuracy: 0.7500 - val_loss: 0.3970 - val_accuracy: 0.8136\n",
            "Epoch 76/120\n",
            "1082/1082 [==============================] - 4s 4ms/step - loss: 0.4935 - accuracy: 0.7505 - val_loss: 0.4642 - val_accuracy: 0.7583\n",
            "Epoch 77/120\n",
            "1082/1082 [==============================] - 4s 4ms/step - loss: 0.4790 - accuracy: 0.7604 - val_loss: 0.4052 - val_accuracy: 0.7960\n",
            "Epoch 78/120\n",
            "1082/1082 [==============================] - 4s 4ms/step - loss: 0.4825 - accuracy: 0.7548 - val_loss: 0.5021 - val_accuracy: 0.7222\n",
            "Epoch 79/120\n",
            "1082/1082 [==============================] - 4s 4ms/step - loss: 0.4768 - accuracy: 0.7590 - val_loss: 0.3948 - val_accuracy: 0.8014\n",
            "Epoch 80/120\n",
            "1082/1082 [==============================] - 4s 4ms/step - loss: 0.4821 - accuracy: 0.7536 - val_loss: 0.7359 - val_accuracy: 0.5489\n",
            "Epoch 81/120\n",
            "1082/1082 [==============================] - 4s 4ms/step - loss: 0.4756 - accuracy: 0.7608 - val_loss: 0.4093 - val_accuracy: 0.7939\n",
            "Epoch 82/120\n",
            "1082/1082 [==============================] - 4s 4ms/step - loss: 0.4820 - accuracy: 0.7560 - val_loss: 0.4105 - val_accuracy: 0.8087\n",
            "Epoch 83/120\n",
            "1082/1082 [==============================] - 4s 4ms/step - loss: 0.4762 - accuracy: 0.7587 - val_loss: 0.4956 - val_accuracy: 0.7537\n",
            "Epoch 84/120\n",
            "1082/1082 [==============================] - 4s 4ms/step - loss: 0.4798 - accuracy: 0.7580 - val_loss: 0.9868 - val_accuracy: 0.3855\n",
            "Epoch 85/120\n",
            "1082/1082 [==============================] - 4s 4ms/step - loss: 0.4820 - accuracy: 0.7558 - val_loss: 0.4208 - val_accuracy: 0.7810\n",
            "Epoch 86/120\n",
            "1082/1082 [==============================] - 4s 4ms/step - loss: 0.4827 - accuracy: 0.7552 - val_loss: 0.4747 - val_accuracy: 0.7488\n",
            "Epoch 87/120\n",
            "1082/1082 [==============================] - 4s 4ms/step - loss: 0.4691 - accuracy: 0.7662 - val_loss: 0.4889 - val_accuracy: 0.7353\n",
            "Epoch 88/120\n",
            "1082/1082 [==============================] - 4s 4ms/step - loss: 0.4707 - accuracy: 0.7633 - val_loss: 0.3725 - val_accuracy: 0.8154\n",
            "Epoch 89/120\n",
            "1082/1082 [==============================] - 4s 4ms/step - loss: 0.4681 - accuracy: 0.7685 - val_loss: 0.6825 - val_accuracy: 0.5502\n",
            "Epoch 90/120\n",
            "1082/1082 [==============================] - 4s 4ms/step - loss: 0.4788 - accuracy: 0.7561 - val_loss: 0.3840 - val_accuracy: 0.8132\n",
            "Epoch 91/120\n",
            "1082/1082 [==============================] - 4s 4ms/step - loss: 0.4726 - accuracy: 0.7640 - val_loss: 0.3603 - val_accuracy: 0.8187\n",
            "Epoch 92/120\n",
            "1082/1082 [==============================] - 4s 4ms/step - loss: 0.4819 - accuracy: 0.7518 - val_loss: 0.6002 - val_accuracy: 0.6278\n",
            "Epoch 93/120\n",
            "1082/1082 [==============================] - 4s 4ms/step - loss: 0.4708 - accuracy: 0.7621 - val_loss: 0.5424 - val_accuracy: 0.6836\n",
            "Epoch 94/120\n",
            "1082/1082 [==============================] - 4s 4ms/step - loss: 0.4799 - accuracy: 0.7561 - val_loss: 0.3742 - val_accuracy: 0.8113\n",
            "Epoch 95/120\n",
            "1082/1082 [==============================] - 5s 5ms/step - loss: 0.4680 - accuracy: 0.7644 - val_loss: 0.4394 - val_accuracy: 0.7777\n",
            "Epoch 96/120\n",
            "1082/1082 [==============================] - 6s 5ms/step - loss: 0.4639 - accuracy: 0.7687 - val_loss: 0.3920 - val_accuracy: 0.8156\n",
            "Epoch 97/120\n",
            "1082/1082 [==============================] - 4s 4ms/step - loss: 0.4760 - accuracy: 0.7587 - val_loss: 0.5918 - val_accuracy: 0.6277\n",
            "Epoch 98/120\n",
            "1082/1082 [==============================] - 4s 4ms/step - loss: 0.4616 - accuracy: 0.7715 - val_loss: 0.4473 - val_accuracy: 0.7608\n",
            "Epoch 99/120\n",
            "1082/1082 [==============================] - 4s 4ms/step - loss: 0.4664 - accuracy: 0.7660 - val_loss: 0.6510 - val_accuracy: 0.5776\n",
            "Epoch 100/120\n",
            "1082/1082 [==============================] - 4s 4ms/step - loss: 0.4713 - accuracy: 0.7619 - val_loss: 0.5726 - val_accuracy: 0.6599\n",
            "Epoch 101/120\n",
            "1082/1082 [==============================] - 4s 4ms/step - loss: 0.4594 - accuracy: 0.7709 - val_loss: 0.5149 - val_accuracy: 0.7092\n",
            "Epoch 102/120\n",
            "1082/1082 [==============================] - 4s 4ms/step - loss: 0.4631 - accuracy: 0.7679 - val_loss: 0.6645 - val_accuracy: 0.5505\n",
            "Epoch 103/120\n",
            "1082/1082 [==============================] - 4s 4ms/step - loss: 0.4653 - accuracy: 0.7678 - val_loss: 0.5286 - val_accuracy: 0.6978\n",
            "Epoch 104/120\n",
            "1082/1082 [==============================] - 4s 4ms/step - loss: 0.4683 - accuracy: 0.7634 - val_loss: 0.3688 - val_accuracy: 0.8199\n",
            "Epoch 105/120\n",
            "1082/1082 [==============================] - 4s 4ms/step - loss: 0.4610 - accuracy: 0.7698 - val_loss: 0.4261 - val_accuracy: 0.7707\n",
            "Epoch 106/120\n",
            "1082/1082 [==============================] - 4s 4ms/step - loss: 0.4540 - accuracy: 0.7791 - val_loss: 0.4893 - val_accuracy: 0.7291\n",
            "Epoch 107/120\n",
            "1082/1082 [==============================] - 4s 4ms/step - loss: 0.4530 - accuracy: 0.7761 - val_loss: 0.5869 - val_accuracy: 0.6315\n",
            "Epoch 108/120\n",
            "1082/1082 [==============================] - 4s 4ms/step - loss: 0.4640 - accuracy: 0.7689 - val_loss: 0.6126 - val_accuracy: 0.6319\n",
            "Epoch 109/120\n",
            "1082/1082 [==============================] - 4s 4ms/step - loss: 0.4622 - accuracy: 0.7679 - val_loss: 0.4051 - val_accuracy: 0.8157\n",
            "Epoch 110/120\n",
            "1082/1082 [==============================] - 4s 4ms/step - loss: 0.4550 - accuracy: 0.7728 - val_loss: 0.4520 - val_accuracy: 0.7542\n",
            "Epoch 111/120\n",
            "1082/1082 [==============================] - 4s 4ms/step - loss: 0.4594 - accuracy: 0.7696 - val_loss: 0.5442 - val_accuracy: 0.7011\n",
            "Epoch 112/120\n",
            "1082/1082 [==============================] - 4s 4ms/step - loss: 0.4534 - accuracy: 0.7739 - val_loss: 0.4186 - val_accuracy: 0.7874\n",
            "Epoch 113/120\n",
            "1082/1082 [==============================] - 4s 4ms/step - loss: 0.4470 - accuracy: 0.7780 - val_loss: 0.3637 - val_accuracy: 0.8176\n",
            "Epoch 114/120\n",
            "1082/1082 [==============================] - 4s 4ms/step - loss: 0.4463 - accuracy: 0.7800 - val_loss: 0.4293 - val_accuracy: 0.7766\n",
            "Epoch 115/120\n",
            "1082/1082 [==============================] - 4s 4ms/step - loss: 0.4517 - accuracy: 0.7745 - val_loss: 0.4740 - val_accuracy: 0.8178\n",
            "Epoch 116/120\n",
            "1082/1082 [==============================] - 4s 4ms/step - loss: 0.4536 - accuracy: 0.7755 - val_loss: 0.3734 - val_accuracy: 0.8216\n",
            "Epoch 117/120\n",
            "1082/1082 [==============================] - 4s 4ms/step - loss: 0.4523 - accuracy: 0.7761 - val_loss: 0.3679 - val_accuracy: 0.8154\n",
            "Epoch 118/120\n",
            "1082/1082 [==============================] - 4s 4ms/step - loss: 0.4560 - accuracy: 0.7730 - val_loss: 0.4816 - val_accuracy: 0.7366\n",
            "Epoch 119/120\n",
            "1082/1082 [==============================] - 4s 4ms/step - loss: 0.4500 - accuracy: 0.7766 - val_loss: 0.4089 - val_accuracy: 0.7862\n",
            "Epoch 120/120\n",
            "1082/1082 [==============================] - 4s 4ms/step - loss: 0.4531 - accuracy: 0.7755 - val_loss: 0.5241 - val_accuracy: 0.6949\n"
          ]
        }
      ]
    },
    {
      "cell_type": "code",
      "source": [
        "y_pred = model.predict(x_val)\n",
        "predictions = 1*(y_pred > 0.68)\n",
        "\n",
        "# y_pred.shape\n",
        "# y_val.shape\n",
        "# predictions.shape"
      ],
      "metadata": {
        "id": "B4oQi8N5tT-O"
      },
      "execution_count": null,
      "outputs": []
    },
    {
      "cell_type": "markdown",
      "source": [
        "## Evaluation on validation data"
      ],
      "metadata": {
        "id": "FYgPnA7gz_MP"
      }
    },
    {
      "cell_type": "code",
      "source": [
        "# confusin matrix to compare the predicted data and real labels\n",
        "confusion_matrix(y_val, predictions)"
      ],
      "metadata": {
        "id": "v792cC2xrS70",
        "colab": {
          "base_uri": "https://localhost:8080/"
        },
        "outputId": "b29fabb3-eafa-4f68-e47a-97e400e9cd34"
      },
      "execution_count": null,
      "outputs": [
        {
          "output_type": "execute_result",
          "data": {
            "text/plain": [
              "array([[6445,  972],\n",
              "       [ 733, 1619]])"
            ]
          },
          "metadata": {},
          "execution_count": 225
        }
      ]
    },
    {
      "cell_type": "code",
      "source": [
        "print(classification_report(y_val, predictions))"
      ],
      "metadata": {
        "id": "krzdxJ2-8tZC",
        "colab": {
          "base_uri": "https://localhost:8080/"
        },
        "outputId": "244aac8f-f00d-41d8-c8d5-8515d37da0d2"
      },
      "execution_count": null,
      "outputs": [
        {
          "output_type": "stream",
          "name": "stdout",
          "text": [
            "              precision    recall  f1-score   support\n",
            "\n",
            "           0       0.90      0.87      0.88      7417\n",
            "           1       0.62      0.69      0.66      2352\n",
            "\n",
            "    accuracy                           0.83      9769\n",
            "   macro avg       0.76      0.78      0.77      9769\n",
            "weighted avg       0.83      0.83      0.83      9769\n",
            "\n"
          ]
        }
      ]
    },
    {
      "cell_type": "markdown",
      "source": [
        "## Visualization of model performance"
      ],
      "metadata": {
        "id": "dMvmAiMm0JmA"
      }
    },
    {
      "cell_type": "code",
      "source": [
        "plt.plot(history.history['accuracy'], c='r')\n",
        "plt.plot(history.history['val_accuracy'], c='b')\n",
        "plt.title('Accuracy')\n",
        "plt.show()\n",
        "\n",
        "plt.plot(history.history['loss'], c='r')\n",
        "plt.plot(history.history['val_loss'], c='b')\n",
        "plt.title('Loss')\n",
        "plt.show()"
      ],
      "metadata": {
        "colab": {
          "base_uri": "https://localhost:8080/",
          "height": 545
        },
        "id": "pHMQBISm0Pd2",
        "outputId": "98555672-f558-4135-8d94-9c363ec405d3"
      },
      "execution_count": null,
      "outputs": [
        {
          "output_type": "display_data",
          "data": {
            "text/plain": [
              "<Figure size 432x288 with 1 Axes>"
            ],
            "image/png": "[encoded data removed]"
          },
          "metadata": {
            "needs_background": "light"
          }
        },
        {
          "output_type": "display_data",
          "data": {
            "text/plain": [
              "<Figure size 432x288 with 1 Axes>"
            ],
            "image/png": "[encoded data removed]"
          },
          "metadata": {
            "needs_background": "light"
          }
        }
      ]
    },
    {
      "cell_type": "markdown",
      "source": [
        "## Analysing the results\n",
        "\n",
        "At first, I used 4 layers with few neurons with Relu as activation function to build the Neural Network. The model did nt perform well, as it was underfitting (it was not performing well even on the train data). Since we are only required to work on the model part (without feature engineering), the underfitting was caused by the fact that our model was too simple to handle these complex data, so I tried to add more layers with more neurons and used a different activation function(Elu) to the model to improve its perfomance, and the results were more satisfactory as the accuracy of both training and validation improved (although the fluctuation in the validation accuracy is inevitable).\n",
        "\n",
        "for the validation part, I changed the threshod to improve the precision and recall of the model and the reasonable threshod was between 0.65 and 0.7."
      ],
      "metadata": {
        "id": "55-cpDmSv2GI"
      }
    }
  ],
  "metadata": {
    "colab": {
      "provenance": []
    },
    "kernelspec": {
      "display_name": "Python 3 (ipykernel)",
      "language": "python",
      "name": "python3"
    },
    "language_info": {
      "codemirror_mode": {
        "name": "ipython",
        "version": 3
      },
      "file_extension": ".py",
      "mimetype": "text/x-python",
      "name": "python",
      "nbconvert_exporter": "python",
      "pygments_lexer": "ipython3",
      "version": "3.7.11"
    },
    "accelerator": "GPU"
  },
  "nbformat": 4,
  "nbformat_minor": 0
}