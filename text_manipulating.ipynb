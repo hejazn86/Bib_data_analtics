{
  "nbformat": 4,
  "nbformat_minor": 0,
  "metadata": {
    "colab": {
      "provenance": []
    },
    "kernelspec": {
      "name": "python3",
      "display_name": "Python 3"
    },
    "language_info": {
      "name": "python"
    }
  },
  "cells": [
    {
      "cell_type": "code",
      "source": [
        "def build_direct_index(filename):\n",
        "\n",
        "  f = open(filename)\n",
        "  unique_words = set()\n",
        "  word_frequencies = dict()\n",
        "\n",
        "  stop_words = ['in','the','a','an','and']\n",
        "  for line in f:\n",
        "    words = line.split()\n",
        "    for word in words:\n",
        "      w = word.lower().strip('?!,;.-\\\"\\'')\n",
        "      if w not in stop_words:\n",
        "        unique_words.add(w)\n",
        "\n",
        "        if w not in word_frequencies:\n",
        "          word_frequencies[w] = 1\n",
        "        else:\n",
        "          word_frequencies[w] = word_frequencies[w] + 1\n",
        "\n",
        "  return word_frequencies\n",
        "\n",
        "\n",
        "def build_batch_direct_reverse_indices(*filenames):\n",
        "\n",
        "  direct_indices = dict()\n",
        "\n",
        "  for filename in filenames:\n",
        "    direct_indices[filename] = build_direct_index(filename)\n",
        "\n",
        "  filenames = direct_indices.keys()\n",
        "  reversed_indices = dict()\n",
        "\n",
        "  for filename in filenames:\n",
        "    words = direct_indices[filename]\n",
        "    for word in words:\n",
        "      if word not in reversed_indices:\n",
        "        reversed_indices[word] = []\n",
        "\n",
        "      word_freq = direct_indices[filename][word]\n",
        "      reversed_indices[word].append((filename, word_freq))\n",
        "\n",
        "  return direct_indices, reversed_indices\n",
        "\n",
        "direct_indices, reversed_indices = build_batch_direct_reverse_indices('nicole.txt','kevin.txt')\n",
        "\n",
        "# direct_indices.keys()\n",
        "# reversed_indices"
      ],
      "metadata": {
        "id": "lDIyGjD-SCoa"
      },
      "execution_count": null,
      "outputs": []
    },
    {
      "cell_type": "code",
      "source": [
        "\n",
        "def query1(direct_indices, w):\n",
        "\n",
        "  filenames = []\n",
        "\n",
        "  for key, val in direct_indices.items():\n",
        "    if w in direct_indices[key]:\n",
        "      filenames.append(key)\n",
        "      break\n",
        "\n",
        "  return filenames\n",
        "\n",
        "\n",
        "def query3(direct_indices, words):\n",
        "  filenames = []\n",
        "  for filename, freq in direct_indices.items():\n",
        "    if all(word in freq for word in words):\n",
        "      filenames.append(filename)\n",
        "\n",
        "  return filenames\n",
        "\n",
        "# sample_indices = {'kevin.txt':{'is':1,'it':2, 'hejaz':1}, 'nicole.txt':{'invite':2, 'inside':1, 'it':1, 'is':2}}\n",
        "# # assert query3(direct_indices, ('is', 'it')) == ['nicole.txt', 'kevin.txt']\n",
        "# assert query3( sample_indices, ('is', 'it')) == {'nicole.txt', 'kevin.txt'}\n",
        "# assert query3(sample_indices, ('is', 'this')) == set()\n",
        "# assert query3(sample_indices, ('is', 'it', 'hejaz')) == {'kevin.txt'}\n",
        "# assert query1(direct_indexes, 'inside') == ['kevin.txt']\n",
        "# query3({'kevin.txt':{'is':1,'it':2, 'hejaz':1}, 'nicole.txt':{'invite':2, 'inside':1, 'it':1, 'is':2}}, ('is', 'it'))\n"
      ],
      "metadata": {
        "id": "tE9aUTT5hd7W"
      },
      "execution_count": null,
      "outputs": []
    },
    {
      "cell_type": "markdown",
      "source": [
        "## Comparing the time of implementing query3 and query1"
      ],
      "metadata": {
        "id": "-cD0BZ2klAGp"
      }
    },
    {
      "cell_type": "code",
      "source": [
        "import datetime\n",
        "\n",
        "\n",
        "direct_indices, reversed_indices = build_batch_direct_reverse_indices('nicole.txt','nicole.txt','nicole.txt')\n",
        "\n",
        "# checking the time query3 takes to process two words as a tuple\n",
        "before = datetime.datetime.now()\n",
        "for i in range(0,1000000):\n",
        "  query3(direct_indices, ('possibly', 'different'))\n",
        "after = datetime.datetime.now()\n",
        "print(f\"Query 3 version 1 took: {(after-before)} milliseconds\")\n",
        "\n",
        "\n",
        "# checking the time query1 takes to process two words seperately\n",
        "before = datetime.datetime.now()\n",
        "for i in range(0,1000000):\n",
        "  filename1 = query1(direct_indices, 'possibly')\n",
        "  filename2 = query1(direct_indices, 'different')\n",
        "  list(set(filename1).intersection(filename2))\n",
        "after = datetime.datetime.now()\n",
        "print(f\"Query 1 version 1 took: {(after-before)} milliseconds\")\n"
      ],
      "metadata": {
        "id": "qpxFzDCQg5Bv",
        "colab": {
          "base_uri": "https://localhost:8080/"
        },
        "outputId": "33046af5-5463-4755-a3d8-4f20535e0814"
      },
      "execution_count": null,
      "outputs": [
        {
          "output_type": "stream",
          "name": "stdout",
          "text": [
            "Query 3 version 1 took: 0:00:00.943093 milliseconds\n",
            "Query 1 version 1 took: 0:00:01.532264 milliseconds\n"
          ]
        }
      ]
    }
  ]
}