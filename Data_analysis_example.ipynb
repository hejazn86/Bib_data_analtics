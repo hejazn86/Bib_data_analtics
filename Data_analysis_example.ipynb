{
  "cells": [
    {
      "cell_type": "markdown",
      "metadata": {
        "id": "rMAw_ojyQA8k"
      },
      "source": [
        "# <b>1 <span style='color:#0386f7de'>|</span> Importing libraries</b>\n",
        "- **For ML Models**: sklearn\n",
        "- **For Data Manipulation**: numpy, pandas, sklearn\n",
        "- **For Data Visualization**: matplotlib, seaborn, plotly"
      ]
    },
    {
      "cell_type": "code",
      "execution_count": null,
      "metadata": {
        "_kg_hide-input": true,
        "_kg_hide-output": true,
        "id": "PzZt8T4uQA8n"
      },
      "outputs": [],
      "source": [
        "# For ML models\n",
        "from sklearn.tree import DecisionTreeClassifier\n",
        "from sklearn.ensemble import RandomForestClassifier\n",
        "from sklearn.metrics import *\n",
        "\n",
        "import numpy as np\n",
        "import pandas as pd\n",
        "from sklearn.preprocessing import LabelEncoder\n",
        "from sklearn.model_selection import train_test_split\n",
        "\n",
        "import matplotlib.pyplot as plt\n",
        "import seaborn as sns\n",
        "import plotly.express as px"
      ]
    },
    {
      "cell_type": "markdown",
      "source": [
        "## Load the data"
      ],
      "metadata": {
        "id": "i5s5I9mV9DET"
      }
    },
    {
      "cell_type": "code",
      "execution_count": null,
      "metadata": {
        "_kg_hide-input": true,
        "id": "XSU7HB-QQA8q",
        "colab": {
          "base_uri": "https://localhost:8080/"
        },
        "outputId": "8e3d94ba-06c2-4436-8138-3b00a3ea18d6"
      },
      "outputs": [
        {
          "output_type": "execute_result",
          "data": {
            "text/plain": [
              "Index(['age', 'workclass', 'fnlwgt', 'education', 'education-num',\n",
              "       'marital-status', 'occupation', 'relationship', 'race', 'sex',\n",
              "       'capital-gain', 'capital-loss', 'hours-per-week', 'native-country',\n",
              "       'target'],\n",
              "      dtype='object')"
            ]
          },
          "metadata": {},
          "execution_count": 14
        }
      ],
      "source": [
        "df = pd.read_csv('data1.csv')\n",
        "\n",
        "df.columns"
      ]
    },
    {
      "cell_type": "markdown",
      "source": [
        "## Drop education and native-country columns"
      ],
      "metadata": {
        "id": "5EMQk2-H9PNo"
      }
    },
    {
      "cell_type": "code",
      "source": [
        "df = df.drop(columns=['education', 'native-country'], axis=1)\n",
        "df.info()\n",
        "# df.columns\n",
        "# df.head()"
      ],
      "metadata": {
        "colab": {
          "base_uri": "https://localhost:8080/"
        },
        "id": "yMT0kHm49TXP",
        "outputId": "f8b2f68d-dc49-4715-b35e-b5d036994a96"
      },
      "execution_count": null,
      "outputs": [
        {
          "output_type": "stream",
          "name": "stdout",
          "text": [
            "<class 'pandas.core.frame.DataFrame'>\n",
            "RangeIndex: 32561 entries, 0 to 32560\n",
            "Data columns (total 13 columns):\n",
            " #   Column          Non-Null Count  Dtype \n",
            "---  ------          --------------  ----- \n",
            " 0   age             32561 non-null  int64 \n",
            " 1   workclass       32561 non-null  object\n",
            " 2   fnlwgt          32561 non-null  int64 \n",
            " 3   education-num   32561 non-null  int64 \n",
            " 4   marital-status  32561 non-null  object\n",
            " 5   occupation      32561 non-null  object\n",
            " 6   relationship    32561 non-null  object\n",
            " 7   race            32561 non-null  object\n",
            " 8   sex             32561 non-null  object\n",
            " 9   capital-gain    32561 non-null  int64 \n",
            " 10  capital-loss    32561 non-null  int64 \n",
            " 11  hours-per-week  32561 non-null  int64 \n",
            " 12  target          32561 non-null  object\n",
            "dtypes: int64(6), object(7)\n",
            "memory usage: 3.2+ MB\n"
          ]
        }
      ]
    },
    {
      "cell_type": "markdown",
      "source": [
        "## Combine the occupation in 5 categories"
      ],
      "metadata": {
        "id": "KJNugAzWgW6J"
      }
    },
    {
      "cell_type": "code",
      "source": [
        "dict = {x: str(i) for i , x in enumerate(list(df['occupation'].unique()))}\n",
        "# dict\n",
        "encode_occupation = {' ?': '5',\n",
        " ' Adm-clerical': '1',\n",
        " ' Armed-Forces': '4',\n",
        " ' Craft-repair': '3',\n",
        " ' Exec-managerial': '1',\n",
        " ' Farming-fishing': '5',\n",
        " ' Handlers-cleaners': '5',\n",
        " ' Machine-op-inspct': '2',\n",
        " ' Other-service': '5',\n",
        " ' Priv-house-serv': '5',\n",
        " ' Prof-specialty': '1',\n",
        " ' Protective-serv': '4',\n",
        " ' Sales': '3',\n",
        " ' Tech-support': '2',\n",
        " ' Transport-moving': '3'}\n",
        "df.replace({\"occupation\" : encode_occupation}, inplace=True)"
      ],
      "metadata": {
        "id": "jvgEdDijwSqB"
      },
      "execution_count": null,
      "outputs": []
    },
    {
      "cell_type": "code",
      "source": [
        "df['occupation'].value_counts()"
      ],
      "metadata": {
        "colab": {
          "base_uri": "https://localhost:8080/"
        },
        "id": "iomMg-qHOw7-",
        "outputId": "e9ee8e7f-e821-4916-c79f-1d59ffa8f5c9"
      },
      "execution_count": null,
      "outputs": [
        {
          "output_type": "execute_result",
          "data": {
            "text/plain": [
              "1    11976\n",
              "3     9346\n",
              "5     7651\n",
              "2     2930\n",
              "4      658\n",
              "Name: occupation, dtype: int64"
            ]
          },
          "metadata": {},
          "execution_count": 18
        }
      ]
    },
    {
      "cell_type": "markdown",
      "metadata": {
        "id": "p34tgIkUQA8t"
      },
      "source": [
        "## Column Statistics (of numerical data)"
      ]
    },
    {
      "cell_type": "code",
      "execution_count": null,
      "metadata": {
        "_kg_hide-input": true,
        "colab": {
          "base_uri": "https://localhost:8080/",
          "height": 237
        },
        "id": "6G7f_tTgQA8t",
        "outputId": "ba8f0088-6ab9-4102-8350-7f5e46ca9a8b"
      },
      "outputs": [
        {
          "output_type": "execute_result",
          "data": {
            "text/plain": [
              "<pandas.io.formats.style.Styler at 0x7f4f23f1fed0>"
            ],
            "text/html": [
              "<style type=\"text/css\">\n",
              "#T_39a6d_row0_col0, #T_39a6d_row0_col1, #T_39a6d_row0_col2, #T_39a6d_row0_col3, #T_39a6d_row0_col4, #T_39a6d_row0_col5, #T_39a6d_row0_col6, #T_39a6d_row2_col0, #T_39a6d_row2_col1, #T_39a6d_row2_col2, #T_39a6d_row2_col3, #T_39a6d_row2_col4, #T_39a6d_row2_col5, #T_39a6d_row2_col6, #T_39a6d_row3_col2, #T_39a6d_row3_col3, #T_39a6d_row3_col4, #T_39a6d_row3_col5, #T_39a6d_row4_col0, #T_39a6d_row4_col1, #T_39a6d_row4_col2, #T_39a6d_row4_col3, #T_39a6d_row4_col4, #T_39a6d_row4_col5, #T_39a6d_row4_col6, #T_39a6d_row5_col0, #T_39a6d_row5_col1, #T_39a6d_row5_col2, #T_39a6d_row5_col3, #T_39a6d_row5_col4, #T_39a6d_row5_col5, #T_39a6d_row5_col6 {\n",
              "  background-color: #f7fbff;\n",
              "  color: #000000;\n",
              "}\n",
              "#T_39a6d_row1_col0, #T_39a6d_row1_col1, #T_39a6d_row1_col2, #T_39a6d_row1_col3, #T_39a6d_row1_col4, #T_39a6d_row1_col5, #T_39a6d_row1_col6 {\n",
              "  background-color: #08306b;\n",
              "  color: #f1f1f1;\n",
              "}\n",
              "#T_39a6d_row3_col0 {\n",
              "  background-color: #f6faff;\n",
              "  color: #000000;\n",
              "}\n",
              "#T_39a6d_row3_col1, #T_39a6d_row3_col6 {\n",
              "  background-color: #eaf2fb;\n",
              "  color: #000000;\n",
              "}\n",
              "</style>\n",
              "<table id=\"T_39a6d_\" class=\"dataframe\">\n",
              "  <thead>\n",
              "    <tr>\n",
              "      <th class=\"blank level0\" >&nbsp;</th>\n",
              "      <th class=\"col_heading level0 col0\" >mean</th>\n",
              "      <th class=\"col_heading level0 col1\" >std</th>\n",
              "      <th class=\"col_heading level0 col2\" >min</th>\n",
              "      <th class=\"col_heading level0 col3\" >25%</th>\n",
              "      <th class=\"col_heading level0 col4\" >50%</th>\n",
              "      <th class=\"col_heading level0 col5\" >75%</th>\n",
              "      <th class=\"col_heading level0 col6\" >max</th>\n",
              "    </tr>\n",
              "  </thead>\n",
              "  <tbody>\n",
              "    <tr>\n",
              "      <th id=\"T_39a6d_level0_row0\" class=\"row_heading level0 row0\" >age</th>\n",
              "      <td id=\"T_39a6d_row0_col0\" class=\"data row0 col0\" >38.581647</td>\n",
              "      <td id=\"T_39a6d_row0_col1\" class=\"data row0 col1\" >13.640433</td>\n",
              "      <td id=\"T_39a6d_row0_col2\" class=\"data row0 col2\" >17.000000</td>\n",
              "      <td id=\"T_39a6d_row0_col3\" class=\"data row0 col3\" >28.000000</td>\n",
              "      <td id=\"T_39a6d_row0_col4\" class=\"data row0 col4\" >37.000000</td>\n",
              "      <td id=\"T_39a6d_row0_col5\" class=\"data row0 col5\" >48.000000</td>\n",
              "      <td id=\"T_39a6d_row0_col6\" class=\"data row0 col6\" >90.000000</td>\n",
              "    </tr>\n",
              "    <tr>\n",
              "      <th id=\"T_39a6d_level0_row1\" class=\"row_heading level0 row1\" >fnlwgt</th>\n",
              "      <td id=\"T_39a6d_row1_col0\" class=\"data row1 col0\" >189778.366512</td>\n",
              "      <td id=\"T_39a6d_row1_col1\" class=\"data row1 col1\" >105549.977697</td>\n",
              "      <td id=\"T_39a6d_row1_col2\" class=\"data row1 col2\" >12285.000000</td>\n",
              "      <td id=\"T_39a6d_row1_col3\" class=\"data row1 col3\" >117827.000000</td>\n",
              "      <td id=\"T_39a6d_row1_col4\" class=\"data row1 col4\" >178356.000000</td>\n",
              "      <td id=\"T_39a6d_row1_col5\" class=\"data row1 col5\" >237051.000000</td>\n",
              "      <td id=\"T_39a6d_row1_col6\" class=\"data row1 col6\" >1484705.000000</td>\n",
              "    </tr>\n",
              "    <tr>\n",
              "      <th id=\"T_39a6d_level0_row2\" class=\"row_heading level0 row2\" >education-num</th>\n",
              "      <td id=\"T_39a6d_row2_col0\" class=\"data row2 col0\" >10.080679</td>\n",
              "      <td id=\"T_39a6d_row2_col1\" class=\"data row2 col1\" >2.572720</td>\n",
              "      <td id=\"T_39a6d_row2_col2\" class=\"data row2 col2\" >1.000000</td>\n",
              "      <td id=\"T_39a6d_row2_col3\" class=\"data row2 col3\" >9.000000</td>\n",
              "      <td id=\"T_39a6d_row2_col4\" class=\"data row2 col4\" >10.000000</td>\n",
              "      <td id=\"T_39a6d_row2_col5\" class=\"data row2 col5\" >12.000000</td>\n",
              "      <td id=\"T_39a6d_row2_col6\" class=\"data row2 col6\" >16.000000</td>\n",
              "    </tr>\n",
              "    <tr>\n",
              "      <th id=\"T_39a6d_level0_row3\" class=\"row_heading level0 row3\" >capital-gain</th>\n",
              "      <td id=\"T_39a6d_row3_col0\" class=\"data row3 col0\" >1077.648844</td>\n",
              "      <td id=\"T_39a6d_row3_col1\" class=\"data row3 col1\" >7385.292085</td>\n",
              "      <td id=\"T_39a6d_row3_col2\" class=\"data row3 col2\" >0.000000</td>\n",
              "      <td id=\"T_39a6d_row3_col3\" class=\"data row3 col3\" >0.000000</td>\n",
              "      <td id=\"T_39a6d_row3_col4\" class=\"data row3 col4\" >0.000000</td>\n",
              "      <td id=\"T_39a6d_row3_col5\" class=\"data row3 col5\" >0.000000</td>\n",
              "      <td id=\"T_39a6d_row3_col6\" class=\"data row3 col6\" >99999.000000</td>\n",
              "    </tr>\n",
              "    <tr>\n",
              "      <th id=\"T_39a6d_level0_row4\" class=\"row_heading level0 row4\" >capital-loss</th>\n",
              "      <td id=\"T_39a6d_row4_col0\" class=\"data row4 col0\" >87.303830</td>\n",
              "      <td id=\"T_39a6d_row4_col1\" class=\"data row4 col1\" >402.960219</td>\n",
              "      <td id=\"T_39a6d_row4_col2\" class=\"data row4 col2\" >0.000000</td>\n",
              "      <td id=\"T_39a6d_row4_col3\" class=\"data row4 col3\" >0.000000</td>\n",
              "      <td id=\"T_39a6d_row4_col4\" class=\"data row4 col4\" >0.000000</td>\n",
              "      <td id=\"T_39a6d_row4_col5\" class=\"data row4 col5\" >0.000000</td>\n",
              "      <td id=\"T_39a6d_row4_col6\" class=\"data row4 col6\" >4356.000000</td>\n",
              "    </tr>\n",
              "    <tr>\n",
              "      <th id=\"T_39a6d_level0_row5\" class=\"row_heading level0 row5\" >hours-per-week</th>\n",
              "      <td id=\"T_39a6d_row5_col0\" class=\"data row5 col0\" >40.437456</td>\n",
              "      <td id=\"T_39a6d_row5_col1\" class=\"data row5 col1\" >12.347429</td>\n",
              "      <td id=\"T_39a6d_row5_col2\" class=\"data row5 col2\" >1.000000</td>\n",
              "      <td id=\"T_39a6d_row5_col3\" class=\"data row5 col3\" >40.000000</td>\n",
              "      <td id=\"T_39a6d_row5_col4\" class=\"data row5 col4\" >40.000000</td>\n",
              "      <td id=\"T_39a6d_row5_col5\" class=\"data row5 col5\" >45.000000</td>\n",
              "      <td id=\"T_39a6d_row5_col6\" class=\"data row5 col6\" >99.000000</td>\n",
              "    </tr>\n",
              "  </tbody>\n",
              "</table>\n"
            ]
          },
          "metadata": {},
          "execution_count": 19
        }
      ],
      "source": [
        "df.describe()[1:][['age','fnlwgt','education-num', 'capital-gain', 'capital-loss', 'hours-per-week']].T.style.background_gradient(cmap='Blues')"
      ]
    },
    {
      "cell_type": "markdown",
      "metadata": {
        "id": "VTlDBNEuQA8u"
      },
      "source": [
        "## Column Statistics (of categorical data)"
      ]
    },
    {
      "cell_type": "code",
      "execution_count": null,
      "metadata": {
        "id": "kURrgfQ9QA8u",
        "colab": {
          "base_uri": "https://localhost:8080/",
          "height": 1000
        },
        "outputId": "0e3b9ce9-cbb1-4c87-8c54-0d50d33d5406"
      },
      "outputs": [
        {
          "output_type": "display_data",
          "data": {
            "text/plain": [
              "<Figure size 432x288 with 1 Axes>"
            ],
            "image/png": "[encoded data removed]"
          },
          "metadata": {
            "needs_background": "light"
          }
        },
        {
          "output_type": "display_data",
          "data": {
            "text/plain": [
              "<Figure size 432x288 with 1 Axes>"
            ],
            "image/png": "[encoded data removed]"
          },
          "metadata": {
            "needs_background": "light"
          }
        },
        {
          "output_type": "display_data",
          "data": {
            "text/plain": [
              "<Figure size 432x288 with 1 Axes>"
            ],
            "image/png": "[encoded data removed]"
          },
          "metadata": {
            "needs_background": "light"
          }
        },
        {
          "output_type": "display_data",
          "data": {
            "text/plain": [
              "<Figure size 432x288 with 1 Axes>"
            ],
            "image/png": "[encoded data removed]"
          },
          "metadata": {
            "needs_background": "light"
          }
        },
        {
          "output_type": "display_data",
          "data": {
            "text/plain": [
              "<Figure size 432x288 with 1 Axes>"
            ],
            "image/png": "[encoded data removed]"
          },
          "metadata": {
            "needs_background": "light"
          }
        },
        {
          "output_type": "display_data",
          "data": {
            "text/plain": [
              "<Figure size 432x288 with 1 Axes>"
            ],
            "image/png": "[encoded data removed]"
          },
          "metadata": {
            "needs_background": "light"
          }
        },
        {
          "output_type": "display_data",
          "data": {
            "text/plain": [
              "<Figure size 432x288 with 1 Axes>"
            ],
            "image/png": "[encoded data removed]"
          },
          "metadata": {
            "needs_background": "light"
          }
        }
      ],
      "source": [
        "import seaborn as sns\n",
        "categ = ['target', 'workclass', 'marital-status', 'occupation', 'relationship', 'race', 'sex']\n",
        "for nome in categ:\n",
        "    ax = sns.countplot(x=nome, data=df)\n",
        "    plt.show()"
      ]
    },
    {
      "cell_type": "markdown",
      "metadata": {
        "id": "AezkNFBJBo4w"
      },
      "source": [
        "## ENCODING"
      ]
    },
    {
      "cell_type": "code",
      "execution_count": null,
      "metadata": {
        "id": "tuO0Ek_BBjYQ"
      },
      "outputs": [],
      "source": [
        "categB = ['workclass', 'marital-status', 'occupation', 'relationship', 'race', 'sex', 'target']"
      ]
    },
    {
      "cell_type": "code",
      "execution_count": null,
      "metadata": {
        "id": "vUjjE_05fhY5",
        "colab": {
          "base_uri": "https://localhost:8080/",
          "height": 250
        },
        "outputId": "3f09b3df-9ea5-4a6c-a5f3-f9493285390b"
      },
      "outputs": [
        {
          "output_type": "execute_result",
          "data": {
            "text/plain": [
              "   age  workclass  fnlwgt  education-num  marital-status  occupation  \\\n",
              "0   39          7   77516             13               4           0   \n",
              "1   50          6   83311             13               2           0   \n",
              "2   38          4  215646              9               0           4   \n",
              "3   53          4  234721              7               2           4   \n",
              "4   28          4  338409             13               2           0   \n",
              "\n",
              "   relationship  race  sex  capital-gain  capital-loss  hours-per-week  target  \n",
              "0             1     4    1          2174             0              40       0  \n",
              "1             0     4    1             0             0              13       0  \n",
              "2             1     4    1             0             0              40       0  \n",
              "3             0     2    1             0             0              40       0  \n",
              "4             5     2    0             0             0              40       0  "
            ],
            "text/html": [
              "\n",
              "  <div id=\"df-c139abcf-5dc5-4af7-ab4a-b32130b19c37\">\n",
              "    <div class=\"colab-df-container\">\n",
              "      <div>\n",
              "<style scoped>\n",
              "    .dataframe tbody tr th:only-of-type {\n",
              "        vertical-align: middle;\n",
              "    }\n",
              "\n",
              "    .dataframe tbody tr th {\n",
              "        vertical-align: top;\n",
              "    }\n",
              "\n",
              "    .dataframe thead th {\n",
              "        text-align: right;\n",
              "    }\n",
              "</style>\n",
              "<table border=\"1\" class=\"dataframe\">\n",
              "  <thead>\n",
              "    <tr style=\"text-align: right;\">\n",
              "      <th></th>\n",
              "      <th>age</th>\n",
              "      <th>workclass</th>\n",
              "      <th>fnlwgt</th>\n",
              "      <th>education-num</th>\n",
              "      <th>marital-status</th>\n",
              "      <th>occupation</th>\n",
              "      <th>relationship</th>\n",
              "      <th>race</th>\n",
              "      <th>sex</th>\n",
              "      <th>capital-gain</th>\n",
              "      <th>capital-loss</th>\n",
              "      <th>hours-per-week</th>\n",
              "      <th>target</th>\n",
              "    </tr>\n",
              "  </thead>\n",
              "  <tbody>\n",
              "    <tr>\n",
              "      <th>0</th>\n",
              "      <td>39</td>\n",
              "      <td>7</td>\n",
              "      <td>77516</td>\n",
              "      <td>13</td>\n",
              "      <td>4</td>\n",
              "      <td>0</td>\n",
              "      <td>1</td>\n",
              "      <td>4</td>\n",
              "      <td>1</td>\n",
              "      <td>2174</td>\n",
              "      <td>0</td>\n",
              "      <td>40</td>\n",
              "      <td>0</td>\n",
              "    </tr>\n",
              "    <tr>\n",
              "      <th>1</th>\n",
              "      <td>50</td>\n",
              "      <td>6</td>\n",
              "      <td>83311</td>\n",
              "      <td>13</td>\n",
              "      <td>2</td>\n",
              "      <td>0</td>\n",
              "      <td>0</td>\n",
              "      <td>4</td>\n",
              "      <td>1</td>\n",
              "      <td>0</td>\n",
              "      <td>0</td>\n",
              "      <td>13</td>\n",
              "      <td>0</td>\n",
              "    </tr>\n",
              "    <tr>\n",
              "      <th>2</th>\n",
              "      <td>38</td>\n",
              "      <td>4</td>\n",
              "      <td>215646</td>\n",
              "      <td>9</td>\n",
              "      <td>0</td>\n",
              "      <td>4</td>\n",
              "      <td>1</td>\n",
              "      <td>4</td>\n",
              "      <td>1</td>\n",
              "      <td>0</td>\n",
              "      <td>0</td>\n",
              "      <td>40</td>\n",
              "      <td>0</td>\n",
              "    </tr>\n",
              "    <tr>\n",
              "      <th>3</th>\n",
              "      <td>53</td>\n",
              "      <td>4</td>\n",
              "      <td>234721</td>\n",
              "      <td>7</td>\n",
              "      <td>2</td>\n",
              "      <td>4</td>\n",
              "      <td>0</td>\n",
              "      <td>2</td>\n",
              "      <td>1</td>\n",
              "      <td>0</td>\n",
              "      <td>0</td>\n",
              "      <td>40</td>\n",
              "      <td>0</td>\n",
              "    </tr>\n",
              "    <tr>\n",
              "      <th>4</th>\n",
              "      <td>28</td>\n",
              "      <td>4</td>\n",
              "      <td>338409</td>\n",
              "      <td>13</td>\n",
              "      <td>2</td>\n",
              "      <td>0</td>\n",
              "      <td>5</td>\n",
              "      <td>2</td>\n",
              "      <td>0</td>\n",
              "      <td>0</td>\n",
              "      <td>0</td>\n",
              "      <td>40</td>\n",
              "      <td>0</td>\n",
              "    </tr>\n",
              "  </tbody>\n",
              "</table>\n",
              "</div>\n",
              "      <button class=\"colab-df-convert\" onclick=\"convertToInteractive('df-c139abcf-5dc5-4af7-ab4a-b32130b19c37')\"\n",
              "              title=\"Convert this dataframe to an interactive table.\"\n",
              "              style=\"display:none;\">\n",
              "        \n",
              "  <svg xmlns=\"http://www.w3.org/2000/svg\" height=\"24px\"viewBox=\"0 0 24 24\"\n",
              "       width=\"24px\">\n",
              "    <path d=\"M0 0h24v24H0V0z\" fill=\"none\"/>\n",
              "    <path d=\"M18.56 5.44l.94 2.06.94-2.06 2.06-.94-2.06-.94-.94-2.06-.94 2.06-2.06.94zm-11 1L8.5 8.5l.94-2.06 2.06-.94-2.06-.94L8.5 2.5l-.94 2.06-2.06.94zm10 10l.94 2.06.94-2.06 2.06-.94-2.06-.94-.94-2.06-.94 2.06-2.06.94z\"/><path d=\"M17.41 7.96l-1.37-1.37c-.4-.4-.92-.59-1.43-.59-.52 0-1.04.2-1.43.59L10.3 9.45l-7.72 7.72c-.78.78-.78 2.05 0 2.83L4 21.41c.39.39.9.59 1.41.59.51 0 1.02-.2 1.41-.59l7.78-7.78 2.81-2.81c.8-.78.8-2.07 0-2.86zM5.41 20L4 18.59l7.72-7.72 1.47 1.35L5.41 20z\"/>\n",
              "  </svg>\n",
              "      </button>\n",
              "      \n",
              "  <style>\n",
              "    .colab-df-container {\n",
              "      display:flex;\n",
              "      flex-wrap:wrap;\n",
              "      gap: 12px;\n",
              "    }\n",
              "\n",
              "    .colab-df-convert {\n",
              "      background-color: #E8F0FE;\n",
              "      border: none;\n",
              "      border-radius: 50%;\n",
              "      cursor: pointer;\n",
              "      display: none;\n",
              "      fill: #1967D2;\n",
              "      height: 32px;\n",
              "      padding: 0 0 0 0;\n",
              "      width: 32px;\n",
              "    }\n",
              "\n",
              "    .colab-df-convert:hover {\n",
              "      background-color: #E2EBFA;\n",
              "      box-shadow: 0px 1px 2px rgba(60, 64, 67, 0.3), 0px 1px 3px 1px rgba(60, 64, 67, 0.15);\n",
              "      fill: #174EA6;\n",
              "    }\n",
              "\n",
              "    [theme=dark] .colab-df-convert {\n",
              "      background-color: #3B4455;\n",
              "      fill: #D2E3FC;\n",
              "    }\n",
              "\n",
              "    [theme=dark] .colab-df-convert:hover {\n",
              "      background-color: #434B5C;\n",
              "      box-shadow: 0px 1px 3px 1px rgba(0, 0, 0, 0.15);\n",
              "      filter: drop-shadow(0px 1px 2px rgba(0, 0, 0, 0.3));\n",
              "      fill: #FFFFFF;\n",
              "    }\n",
              "  </style>\n",
              "\n",
              "      <script>\n",
              "        const buttonEl =\n",
              "          document.querySelector('#df-c139abcf-5dc5-4af7-ab4a-b32130b19c37 button.colab-df-convert');\n",
              "        buttonEl.style.display =\n",
              "          google.colab.kernel.accessAllowed ? 'block' : 'none';\n",
              "\n",
              "        async function convertToInteractive(key) {\n",
              "          const element = document.querySelector('#df-c139abcf-5dc5-4af7-ab4a-b32130b19c37');\n",
              "          const dataTable =\n",
              "            await google.colab.kernel.invokeFunction('convertToInteractive',\n",
              "                                                     [key], {});\n",
              "          if (!dataTable) return;\n",
              "\n",
              "          const docLinkHtml = 'Like what you see? Visit the ' +\n",
              "            '<a target=\"_blank\" href=https://colab.research.google.com/notebooks/data_table.ipynb>data table notebook</a>'\n",
              "            + ' to learn more about interactive tables.';\n",
              "          element.innerHTML = '';\n",
              "          dataTable['output_type'] = 'display_data';\n",
              "          await google.colab.output.renderOutput(dataTable, element);\n",
              "          const docLink = document.createElement('div');\n",
              "          docLink.innerHTML = docLinkHtml;\n",
              "          element.appendChild(docLink);\n",
              "        }\n",
              "      </script>\n",
              "    </div>\n",
              "  </div>\n",
              "  "
            ]
          },
          "metadata": {},
          "execution_count": 22
        }
      ],
      "source": [
        "le = LabelEncoder()\n",
        "for col in categB:\n",
        "    df[col] = le.fit_transform(df[col])\n",
        "\n",
        "\n",
        "# df.head()"
      ]
    },
    {
      "cell_type": "code",
      "source": [
        "df = pd.get_dummies(df,columns=['workclass', 'marital-status', 'occupation', 'relationship', 'race'],\n",
        "                    prefix=['class','status','occup', 'relation', 'race'])\n",
        "# df.head()"
      ],
      "metadata": {
        "id": "pBsiXXLHjQA1"
      },
      "execution_count": null,
      "outputs": []
    },
    {
      "cell_type": "markdown",
      "metadata": {
        "id": "9i1hoK6ACFZ6"
      },
      "source": [
        "## Split the data tp train and validation data"
      ]
    },
    {
      "cell_type": "code",
      "execution_count": null,
      "metadata": {
        "colab": {
          "base_uri": "https://localhost:8080/"
        },
        "id": "LyxCU8-v25gO",
        "outputId": "ec0f8d1b-1a72-4677-d3a2-d67e515af77f"
      },
      "outputs": [
        {
          "output_type": "stream",
          "name": "stdout",
          "text": [
            "0    17303\n",
            "1     5489\n",
            "Name: target, dtype: int64\n",
            "0    7417\n",
            "1    2352\n",
            "Name: target, dtype: int64\n"
          ]
        }
      ],
      "source": [
        "train_df, val_df = train_test_split(df, test_size=0.3, stratify=df['target'], random_state=123)\n",
        "print(train_df['target'].value_counts())\n",
        "print(val_df['target'].value_counts())"
      ]
    },
    {
      "cell_type": "markdown",
      "metadata": {
        "id": "SwUTqwE5CTUm"
      },
      "source": [
        "## BALANCE CLASSES by resampling from the data"
      ]
    },
    {
      "cell_type": "code",
      "execution_count": null,
      "metadata": {
        "id": "zVfRDezm5CFZ"
      },
      "outputs": [],
      "source": [
        "class_0 =train_df[train_df['target']==0]\n",
        "class_1 =train_df[train_df['target']==1]\n",
        "aug = class_1.sample(len(class_0),replace=True)"
      ]
    },
    {
      "cell_type": "code",
      "execution_count": null,
      "metadata": {
        "id": "t0IOvpDk6UUW",
        "colab": {
          "base_uri": "https://localhost:8080/",
          "height": 522
        },
        "outputId": "196d7886-d7cc-4563-c77c-6c47dbafc33d"
      },
      "outputs": [
        {
          "output_type": "execute_result",
          "data": {
            "text/plain": [
              "       age  fnlwgt  education-num  sex  capital-gain  capital-loss  \\\n",
              "31955   46  267952             11    0             0             0   \n",
              "4817    27  116531             13    0             0             0   \n",
              "11002   25  197036              6    1             0             0   \n",
              "20174   21  207103              9    1             0             0   \n",
              "29969   48  207817              9    0             0             0   \n",
              "...    ...     ...            ...  ...           ...           ...   \n",
              "28320   36  504871              9    1             0             0   \n",
              "1728    49  186078             14    0             0             0   \n",
              "1207    38   79619             13    1             0             0   \n",
              "16422   50  158294             15    1         99999             0   \n",
              "2796    47  139268             15    1             0          1977   \n",
              "\n",
              "       hours-per-week  target  class_0  class_1  ...  relation_1  relation_2  \\\n",
              "31955              36       0        0        0  ...           1           0   \n",
              "4817               40       0        0        0  ...           1           0   \n",
              "11002              40       0        0        0  ...           0           0   \n",
              "20174              40       0        0        0  ...           0           0   \n",
              "29969              32       0        0        0  ...           1           0   \n",
              "...               ...     ...      ...      ...  ...         ...         ...   \n",
              "28320              40       1        1        0  ...           0           0   \n",
              "1728               50       1        0        0  ...           0           0   \n",
              "1207               42       1        0        0  ...           0           0   \n",
              "16422              80       1        0        0  ...           0           0   \n",
              "2796               60       1        0        0  ...           0           0   \n",
              "\n",
              "       relation_3  relation_4  relation_5  race_0  race_1  race_2  race_3  \\\n",
              "31955           0           0           0       0       0       0       0   \n",
              "4817            0           0           0       0       0       0       0   \n",
              "11002           1           0           0       0       0       0       0   \n",
              "20174           1           0           0       0       0       0       0   \n",
              "29969           0           0           0       0       0       0       0   \n",
              "...           ...         ...         ...     ...     ...     ...     ...   \n",
              "28320           0           0           0       0       0       0       0   \n",
              "1728            0           0           1       0       0       0       0   \n",
              "1207            0           0           0       0       0       0       0   \n",
              "16422           0           0           0       0       0       0       0   \n",
              "2796            0           0           0       0       0       0       0   \n",
              "\n",
              "       race_4  \n",
              "31955       1  \n",
              "4817        1  \n",
              "11002       1  \n",
              "20174       1  \n",
              "29969       1  \n",
              "...       ...  \n",
              "28320       1  \n",
              "1728        1  \n",
              "1207        1  \n",
              "16422       1  \n",
              "2796        1  \n",
              "\n",
              "[34606 rows x 40 columns]"
            ],
            "text/html": [
              "\n",
              "  <div id=\"df-66056d57-3898-451c-aa21-6fb819954b5e\">\n",
              "    <div class=\"colab-df-container\">\n",
              "      <div>\n",
              "<style scoped>\n",
              "    .dataframe tbody tr th:only-of-type {\n",
              "        vertical-align: middle;\n",
              "    }\n",
              "\n",
              "    .dataframe tbody tr th {\n",
              "        vertical-align: top;\n",
              "    }\n",
              "\n",
              "    .dataframe thead th {\n",
              "        text-align: right;\n",
              "    }\n",
              "</style>\n",
              "<table border=\"1\" class=\"dataframe\">\n",
              "  <thead>\n",
              "    <tr style=\"text-align: right;\">\n",
              "      <th></th>\n",
              "      <th>age</th>\n",
              "      <th>fnlwgt</th>\n",
              "      <th>education-num</th>\n",
              "      <th>sex</th>\n",
              "      <th>capital-gain</th>\n",
              "      <th>capital-loss</th>\n",
              "      <th>hours-per-week</th>\n",
              "      <th>target</th>\n",
              "      <th>class_0</th>\n",
              "      <th>class_1</th>\n",
              "      <th>...</th>\n",
              "      <th>relation_1</th>\n",
              "      <th>relation_2</th>\n",
              "      <th>relation_3</th>\n",
              "      <th>relation_4</th>\n",
              "      <th>relation_5</th>\n",
              "      <th>race_0</th>\n",
              "      <th>race_1</th>\n",
              "      <th>race_2</th>\n",
              "      <th>race_3</th>\n",
              "      <th>race_4</th>\n",
              "    </tr>\n",
              "  </thead>\n",
              "  <tbody>\n",
              "    <tr>\n",
              "      <th>31955</th>\n",
              "      <td>46</td>\n",
              "      <td>267952</td>\n",
              "      <td>11</td>\n",
              "      <td>0</td>\n",
              "      <td>0</td>\n",
              "      <td>0</td>\n",
              "      <td>36</td>\n",
              "      <td>0</td>\n",
              "      <td>0</td>\n",
              "      <td>0</td>\n",
              "      <td>...</td>\n",
              "      <td>1</td>\n",
              "      <td>0</td>\n",
              "      <td>0</td>\n",
              "      <td>0</td>\n",
              "      <td>0</td>\n",
              "      <td>0</td>\n",
              "      <td>0</td>\n",
              "      <td>0</td>\n",
              "      <td>0</td>\n",
              "      <td>1</td>\n",
              "    </tr>\n",
              "    <tr>\n",
              "      <th>4817</th>\n",
              "      <td>27</td>\n",
              "      <td>116531</td>\n",
              "      <td>13</td>\n",
              "      <td>0</td>\n",
              "      <td>0</td>\n",
              "      <td>0</td>\n",
              "      <td>40</td>\n",
              "      <td>0</td>\n",
              "      <td>0</td>\n",
              "      <td>0</td>\n",
              "      <td>...</td>\n",
              "      <td>1</td>\n",
              "      <td>0</td>\n",
              "      <td>0</td>\n",
              "      <td>0</td>\n",
              "      <td>0</td>\n",
              "      <td>0</td>\n",
              "      <td>0</td>\n",
              "      <td>0</td>\n",
              "      <td>0</td>\n",
              "      <td>1</td>\n",
              "    </tr>\n",
              "    <tr>\n",
              "      <th>11002</th>\n",
              "      <td>25</td>\n",
              "      <td>197036</td>\n",
              "      <td>6</td>\n",
              "      <td>1</td>\n",
              "      <td>0</td>\n",
              "      <td>0</td>\n",
              "      <td>40</td>\n",
              "      <td>0</td>\n",
              "      <td>0</td>\n",
              "      <td>0</td>\n",
              "      <td>...</td>\n",
              "      <td>0</td>\n",
              "      <td>0</td>\n",
              "      <td>1</td>\n",
              "      <td>0</td>\n",
              "      <td>0</td>\n",
              "      <td>0</td>\n",
              "      <td>0</td>\n",
              "      <td>0</td>\n",
              "      <td>0</td>\n",
              "      <td>1</td>\n",
              "    </tr>\n",
              "    <tr>\n",
              "      <th>20174</th>\n",
              "      <td>21</td>\n",
              "      <td>207103</td>\n",
              "      <td>9</td>\n",
              "      <td>1</td>\n",
              "      <td>0</td>\n",
              "      <td>0</td>\n",
              "      <td>40</td>\n",
              "      <td>0</td>\n",
              "      <td>0</td>\n",
              "      <td>0</td>\n",
              "      <td>...</td>\n",
              "      <td>0</td>\n",
              "      <td>0</td>\n",
              "      <td>1</td>\n",
              "      <td>0</td>\n",
              "      <td>0</td>\n",
              "      <td>0</td>\n",
              "      <td>0</td>\n",
              "      <td>0</td>\n",
              "      <td>0</td>\n",
              "      <td>1</td>\n",
              "    </tr>\n",
              "    <tr>\n",
              "      <th>29969</th>\n",
              "      <td>48</td>\n",
              "      <td>207817</td>\n",
              "      <td>9</td>\n",
              "      <td>0</td>\n",
              "      <td>0</td>\n",
              "      <td>0</td>\n",
              "      <td>32</td>\n",
              "      <td>0</td>\n",
              "      <td>0</td>\n",
              "      <td>0</td>\n",
              "      <td>...</td>\n",
              "      <td>1</td>\n",
              "      <td>0</td>\n",
              "      <td>0</td>\n",
              "      <td>0</td>\n",
              "      <td>0</td>\n",
              "      <td>0</td>\n",
              "      <td>0</td>\n",
              "      <td>0</td>\n",
              "      <td>0</td>\n",
              "      <td>1</td>\n",
              "    </tr>\n",
              "    <tr>\n",
              "      <th>...</th>\n",
              "      <td>...</td>\n",
              "      <td>...</td>\n",
              "      <td>...</td>\n",
              "      <td>...</td>\n",
              "      <td>...</td>\n",
              "      <td>...</td>\n",
              "      <td>...</td>\n",
              "      <td>...</td>\n",
              "      <td>...</td>\n",
              "      <td>...</td>\n",
              "      <td>...</td>\n",
              "      <td>...</td>\n",
              "      <td>...</td>\n",
              "      <td>...</td>\n",
              "      <td>...</td>\n",
              "      <td>...</td>\n",
              "      <td>...</td>\n",
              "      <td>...</td>\n",
              "      <td>...</td>\n",
              "      <td>...</td>\n",
              "      <td>...</td>\n",
              "    </tr>\n",
              "    <tr>\n",
              "      <th>28320</th>\n",
              "      <td>36</td>\n",
              "      <td>504871</td>\n",
              "      <td>9</td>\n",
              "      <td>1</td>\n",
              "      <td>0</td>\n",
              "      <td>0</td>\n",
              "      <td>40</td>\n",
              "      <td>1</td>\n",
              "      <td>1</td>\n",
              "      <td>0</td>\n",
              "      <td>...</td>\n",
              "      <td>0</td>\n",
              "      <td>0</td>\n",
              "      <td>0</td>\n",
              "      <td>0</td>\n",
              "      <td>0</td>\n",
              "      <td>0</td>\n",
              "      <td>0</td>\n",
              "      <td>0</td>\n",
              "      <td>0</td>\n",
              "      <td>1</td>\n",
              "    </tr>\n",
              "    <tr>\n",
              "      <th>1728</th>\n",
              "      <td>49</td>\n",
              "      <td>186078</td>\n",
              "      <td>14</td>\n",
              "      <td>0</td>\n",
              "      <td>0</td>\n",
              "      <td>0</td>\n",
              "      <td>50</td>\n",
              "      <td>1</td>\n",
              "      <td>0</td>\n",
              "      <td>0</td>\n",
              "      <td>...</td>\n",
              "      <td>0</td>\n",
              "      <td>0</td>\n",
              "      <td>0</td>\n",
              "      <td>0</td>\n",
              "      <td>1</td>\n",
              "      <td>0</td>\n",
              "      <td>0</td>\n",
              "      <td>0</td>\n",
              "      <td>0</td>\n",
              "      <td>1</td>\n",
              "    </tr>\n",
              "    <tr>\n",
              "      <th>1207</th>\n",
              "      <td>38</td>\n",
              "      <td>79619</td>\n",
              "      <td>13</td>\n",
              "      <td>1</td>\n",
              "      <td>0</td>\n",
              "      <td>0</td>\n",
              "      <td>42</td>\n",
              "      <td>1</td>\n",
              "      <td>0</td>\n",
              "      <td>0</td>\n",
              "      <td>...</td>\n",
              "      <td>0</td>\n",
              "      <td>0</td>\n",
              "      <td>0</td>\n",
              "      <td>0</td>\n",
              "      <td>0</td>\n",
              "      <td>0</td>\n",
              "      <td>0</td>\n",
              "      <td>0</td>\n",
              "      <td>0</td>\n",
              "      <td>1</td>\n",
              "    </tr>\n",
              "    <tr>\n",
              "      <th>16422</th>\n",
              "      <td>50</td>\n",
              "      <td>158294</td>\n",
              "      <td>15</td>\n",
              "      <td>1</td>\n",
              "      <td>99999</td>\n",
              "      <td>0</td>\n",
              "      <td>80</td>\n",
              "      <td>1</td>\n",
              "      <td>0</td>\n",
              "      <td>0</td>\n",
              "      <td>...</td>\n",
              "      <td>0</td>\n",
              "      <td>0</td>\n",
              "      <td>0</td>\n",
              "      <td>0</td>\n",
              "      <td>0</td>\n",
              "      <td>0</td>\n",
              "      <td>0</td>\n",
              "      <td>0</td>\n",
              "      <td>0</td>\n",
              "      <td>1</td>\n",
              "    </tr>\n",
              "    <tr>\n",
              "      <th>2796</th>\n",
              "      <td>47</td>\n",
              "      <td>139268</td>\n",
              "      <td>15</td>\n",
              "      <td>1</td>\n",
              "      <td>0</td>\n",
              "      <td>1977</td>\n",
              "      <td>60</td>\n",
              "      <td>1</td>\n",
              "      <td>0</td>\n",
              "      <td>0</td>\n",
              "      <td>...</td>\n",
              "      <td>0</td>\n",
              "      <td>0</td>\n",
              "      <td>0</td>\n",
              "      <td>0</td>\n",
              "      <td>0</td>\n",
              "      <td>0</td>\n",
              "      <td>0</td>\n",
              "      <td>0</td>\n",
              "      <td>0</td>\n",
              "      <td>1</td>\n",
              "    </tr>\n",
              "  </tbody>\n",
              "</table>\n",
              "<p>34606 rows × 40 columns</p>\n",
              "</div>\n",
              "      <button class=\"colab-df-convert\" onclick=\"convertToInteractive('df-66056d57-3898-451c-aa21-6fb819954b5e')\"\n",
              "              title=\"Convert this dataframe to an interactive table.\"\n",
              "              style=\"display:none;\">\n",
              "        \n",
              "  <svg xmlns=\"http://www.w3.org/2000/svg\" height=\"24px\"viewBox=\"0 0 24 24\"\n",
              "       width=\"24px\">\n",
              "    <path d=\"M0 0h24v24H0V0z\" fill=\"none\"/>\n",
              "    <path d=\"M18.56 5.44l.94 2.06.94-2.06 2.06-.94-2.06-.94-.94-2.06-.94 2.06-2.06.94zm-11 1L8.5 8.5l.94-2.06 2.06-.94-2.06-.94L8.5 2.5l-.94 2.06-2.06.94zm10 10l.94 2.06.94-2.06 2.06-.94-2.06-.94-.94-2.06-.94 2.06-2.06.94z\"/><path d=\"M17.41 7.96l-1.37-1.37c-.4-.4-.92-.59-1.43-.59-.52 0-1.04.2-1.43.59L10.3 9.45l-7.72 7.72c-.78.78-.78 2.05 0 2.83L4 21.41c.39.39.9.59 1.41.59.51 0 1.02-.2 1.41-.59l7.78-7.78 2.81-2.81c.8-.78.8-2.07 0-2.86zM5.41 20L4 18.59l7.72-7.72 1.47 1.35L5.41 20z\"/>\n",
              "  </svg>\n",
              "      </button>\n",
              "      \n",
              "  <style>\n",
              "    .colab-df-container {\n",
              "      display:flex;\n",
              "      flex-wrap:wrap;\n",
              "      gap: 12px;\n",
              "    }\n",
              "\n",
              "    .colab-df-convert {\n",
              "      background-color: #E8F0FE;\n",
              "      border: none;\n",
              "      border-radius: 50%;\n",
              "      cursor: pointer;\n",
              "      display: none;\n",
              "      fill: #1967D2;\n",
              "      height: 32px;\n",
              "      padding: 0 0 0 0;\n",
              "      width: 32px;\n",
              "    }\n",
              "\n",
              "    .colab-df-convert:hover {\n",
              "      background-color: #E2EBFA;\n",
              "      box-shadow: 0px 1px 2px rgba(60, 64, 67, 0.3), 0px 1px 3px 1px rgba(60, 64, 67, 0.15);\n",
              "      fill: #174EA6;\n",
              "    }\n",
              "\n",
              "    [theme=dark] .colab-df-convert {\n",
              "      background-color: #3B4455;\n",
              "      fill: #D2E3FC;\n",
              "    }\n",
              "\n",
              "    [theme=dark] .colab-df-convert:hover {\n",
              "      background-color: #434B5C;\n",
              "      box-shadow: 0px 1px 3px 1px rgba(0, 0, 0, 0.15);\n",
              "      filter: drop-shadow(0px 1px 2px rgba(0, 0, 0, 0.3));\n",
              "      fill: #FFFFFF;\n",
              "    }\n",
              "  </style>\n",
              "\n",
              "      <script>\n",
              "        const buttonEl =\n",
              "          document.querySelector('#df-66056d57-3898-451c-aa21-6fb819954b5e button.colab-df-convert');\n",
              "        buttonEl.style.display =\n",
              "          google.colab.kernel.accessAllowed ? 'block' : 'none';\n",
              "\n",
              "        async function convertToInteractive(key) {\n",
              "          const element = document.querySelector('#df-66056d57-3898-451c-aa21-6fb819954b5e');\n",
              "          const dataTable =\n",
              "            await google.colab.kernel.invokeFunction('convertToInteractive',\n",
              "                                                     [key], {});\n",
              "          if (!dataTable) return;\n",
              "\n",
              "          const docLinkHtml = 'Like what you see? Visit the ' +\n",
              "            '<a target=\"_blank\" href=https://colab.research.google.com/notebooks/data_table.ipynb>data table notebook</a>'\n",
              "            + ' to learn more about interactive tables.';\n",
              "          element.innerHTML = '';\n",
              "          dataTable['output_type'] = 'display_data';\n",
              "          await google.colab.output.renderOutput(dataTable, element);\n",
              "          const docLink = document.createElement('div');\n",
              "          docLink.innerHTML = docLinkHtml;\n",
              "          element.appendChild(docLink);\n",
              "        }\n",
              "      </script>\n",
              "    </div>\n",
              "  </div>\n",
              "  "
            ]
          },
          "metadata": {},
          "execution_count": 32
        }
      ],
      "source": [
        "train_df = pd.concat([class_0,aug],axis=0)\n",
        "train_df"
      ]
    },
    {
      "cell_type": "code",
      "execution_count": null,
      "metadata": {
        "colab": {
          "base_uri": "https://localhost:8080/"
        },
        "id": "NkKtHNJz7Lcr",
        "outputId": "46404c69-663b-46a1-f153-93c6e5379b40"
      },
      "outputs": [
        {
          "output_type": "stream",
          "name": "stdout",
          "text": [
            "0    17303\n",
            "1    17303\n",
            "Name: target, dtype: int64\n"
          ]
        },
        {
          "output_type": "execute_result",
          "data": {
            "text/plain": [
              "Index(['age', 'fnlwgt', 'education-num', 'sex', 'capital-gain', 'capital-loss',\n",
              "       'hours-per-week', 'target', 'class_0', 'class_1', 'class_2', 'class_3',\n",
              "       'class_4', 'class_5', 'class_6', 'class_7', 'class_8', 'status_0',\n",
              "       'status_1', 'status_2', 'status_3', 'status_4', 'status_5', 'status_6',\n",
              "       'occup_0', 'occup_1', 'occup_2', 'occup_3', 'occup_4', 'relation_0',\n",
              "       'relation_1', 'relation_2', 'relation_3', 'relation_4', 'relation_5',\n",
              "       'race_0', 'race_1', 'race_2', 'race_3', 'race_4'],\n",
              "      dtype='object')"
            ]
          },
          "metadata": {},
          "execution_count": 34
        }
      ],
      "source": [
        "print(train_df['target'].value_counts())\n",
        "train_df.columns"
      ]
    },
    {
      "cell_type": "markdown",
      "metadata": {
        "id": "dTVsjRIOCoOs"
      },
      "source": [
        "## Seperate the target"
      ]
    },
    {
      "cell_type": "code",
      "execution_count": null,
      "metadata": {
        "id": "SVWOFelN8gHR"
      },
      "outputs": [],
      "source": [
        "# data train\n",
        "y_train = train_df['target']\n",
        "x_train = train_df.drop(labels=['target'],axis=1)\n",
        "# x_train"
      ]
    },
    {
      "cell_type": "code",
      "execution_count": null,
      "metadata": {
        "id": "XDFfMDRW9Ykb"
      },
      "outputs": [],
      "source": [
        "# data validation\n",
        "y_val = val_df['target']\n",
        "x_val = val_df.drop(labels=['target'],axis=1)\n",
        "# x_val"
      ]
    },
    {
      "cell_type": "markdown",
      "source": [
        "# Decision Tree classifier"
      ],
      "metadata": {
        "id": "gAudFCwbhykg"
      }
    },
    {
      "cell_type": "code",
      "execution_count": null,
      "metadata": {
        "colab": {
          "base_uri": "https://localhost:8080/"
        },
        "id": "QDlX5J0cIBTX",
        "outputId": "b7462f4d-0b0f-4cd7-bfc4-39d3fdee9a8d"
      },
      "outputs": [
        {
          "output_type": "execute_result",
          "data": {
            "text/plain": [
              "DecisionTreeClassifier(min_samples_leaf=8, min_samples_split=20)"
            ]
          },
          "metadata": {},
          "execution_count": 82
        }
      ],
      "source": [
        "# using decision tree classifier\n",
        "dtree = DecisionTreeClassifier(min_samples_split=20,min_samples_leaf=8)\n",
        "dtree.fit(x_train,y_train)\n"
      ]
    },
    {
      "cell_type": "markdown",
      "source": [
        "### EVALUATION on test data"
      ],
      "metadata": {
        "id": "TsbBFifGor2B"
      }
    },
    {
      "cell_type": "code",
      "source": [
        "y_pred = dtree.predict(x_val)\n",
        "print(classification_report(y_val,y_pred))"
      ],
      "metadata": {
        "colab": {
          "base_uri": "https://localhost:8080/"
        },
        "id": "CVN2jjfEogqL",
        "outputId": "02efd39f-bc16-42b8-ef2b-e365d5a78f2e"
      },
      "execution_count": null,
      "outputs": [
        {
          "output_type": "stream",
          "name": "stdout",
          "text": [
            "              precision    recall  f1-score   support\n",
            "\n",
            "           0       0.90      0.84      0.87      7417\n",
            "           1       0.58      0.72      0.64      2352\n",
            "\n",
            "    accuracy                           0.81      9769\n",
            "   macro avg       0.74      0.78      0.76      9769\n",
            "weighted avg       0.83      0.81      0.81      9769\n",
            "\n"
          ]
        }
      ]
    },
    {
      "cell_type": "code",
      "source": [
        "# confusin matrix to compare the predicted data and real labels\n",
        "confusion_matrix(y_val,y_pred)"
      ],
      "metadata": {
        "colab": {
          "base_uri": "https://localhost:8080/"
        },
        "id": "v792cC2xrS70",
        "outputId": "6d547e3a-6eb3-4ea5-96dd-e41344e6a9f1"
      },
      "execution_count": null,
      "outputs": [
        {
          "output_type": "execute_result",
          "data": {
            "text/plain": [
              "array([[6210, 1207],\n",
              "       [ 667, 1685]])"
            ]
          },
          "metadata": {},
          "execution_count": 84
        }
      ]
    },
    {
      "cell_type": "markdown",
      "source": [
        "### CHANGE THE THREESHOLD"
      ],
      "metadata": {
        "id": "TKSBGaigtZXp"
      }
    },
    {
      "cell_type": "code",
      "source": [
        "y_prob = dtree.predict_proba(x_val)\n",
        "y_prob"
      ],
      "metadata": {
        "id": "B4oQi8N5tT-O",
        "colab": {
          "base_uri": "https://localhost:8080/"
        },
        "outputId": "5e602f09-efd3-4a65-a329-e35491d1ad1d"
      },
      "execution_count": null,
      "outputs": [
        {
          "output_type": "execute_result",
          "data": {
            "text/plain": [
              "array([[1.        , 0.        ],\n",
              "       [1.        , 0.        ],\n",
              "       [1.        , 0.        ],\n",
              "       ...,\n",
              "       [0.08333333, 0.91666667],\n",
              "       [1.        , 0.        ],\n",
              "       [1.        , 0.        ]])"
            ]
          },
          "metadata": {},
          "execution_count": 85
        }
      ]
    },
    {
      "cell_type": "code",
      "source": [
        "y_pred_t = y_prob[:,1]>0.7\n",
        "confusion_matrix(y_val,y_pred_t)"
      ],
      "metadata": {
        "id": "ILZ5xZSrtYYc",
        "colab": {
          "base_uri": "https://localhost:8080/"
        },
        "outputId": "82d81695-6213-4a2e-aa3e-6a98dcfe3195"
      },
      "execution_count": null,
      "outputs": [
        {
          "output_type": "execute_result",
          "data": {
            "text/plain": [
              "array([[6654,  763],\n",
              "       [ 900, 1452]])"
            ]
          },
          "metadata": {},
          "execution_count": 86
        }
      ]
    },
    {
      "cell_type": "markdown",
      "source": [
        "### ROC"
      ],
      "metadata": {
        "id": "jdUmlMi4hiBf"
      }
    },
    {
      "cell_type": "code",
      "source": [
        "# from sklearn import metrics\n",
        "print(metrics.roc_auc_score(y_val, y_prob[:,1]))\n",
        "RocCurveDisplay.from_estimator(dtree, x_val, y_val)"
      ],
      "metadata": {
        "colab": {
          "base_uri": "https://localhost:8080/",
          "height": 316
        },
        "id": "0WmhxsDohfBM",
        "outputId": "33593a55-e32f-4190-bac2-308d620d806f"
      },
      "execution_count": null,
      "outputs": [
        {
          "output_type": "stream",
          "name": "stdout",
          "text": [
            "0.9099057059118645\n"
          ]
        },
        {
          "output_type": "execute_result",
          "data": {
            "text/plain": [
              "<sklearn.metrics._plot.roc_curve.RocCurveDisplay at 0x7f4f229bd890>"
            ]
          },
          "metadata": {},
          "execution_count": 136
        },
        {
          "output_type": "display_data",
          "data": {
            "text/plain": [
              "<Figure size 432x288 with 1 Axes>"
            ],
            "image/png": "[encoded data removed]"
          },
          "metadata": {
            "needs_background": "light"
          }
        }
      ]
    },
    {
      "cell_type": "markdown",
      "metadata": {
        "id": "OSBv1TKYCxV7"
      },
      "source": [
        "## RANDOM FORESTS"
      ]
    },
    {
      "cell_type": "code",
      "execution_count": null,
      "metadata": {
        "colab": {
          "base_uri": "https://localhost:8080/"
        },
        "id": "pI2jYb7T9qFw",
        "outputId": "37c7dc06-b06d-4198-985b-7c0032af544f"
      },
      "outputs": [
        {
          "output_type": "execute_result",
          "data": {
            "text/plain": [
              "RandomForestClassifier(max_features=4, min_samples_leaf=8, min_samples_split=15,\n",
              "                       n_estimators=200)"
            ]
          },
          "metadata": {},
          "execution_count": 87
        }
      ],
      "source": [
        "clf = RandomForestClassifier(n_estimators=200,min_samples_split=15,\n",
        "                             min_samples_leaf=8, max_features=4)\n",
        "clf.fit(x_train,y_train)\n"
      ]
    },
    {
      "cell_type": "markdown",
      "metadata": {
        "id": "PIDGJ3rgiD_O"
      },
      "source": [
        "### EVALUATION ON data test"
      ]
    },
    {
      "cell_type": "code",
      "execution_count": null,
      "metadata": {
        "id": "TSVD-AO4-n2L",
        "colab": {
          "base_uri": "https://localhost:8080/"
        },
        "outputId": "275adc50-4728-45c3-f70c-bb78cc9bc81e"
      },
      "outputs": [
        {
          "output_type": "stream",
          "name": "stdout",
          "text": [
            "              precision    recall  f1-score   support\n",
            "\n",
            "           0       0.94      0.79      0.86      7417\n",
            "           1       0.57      0.85      0.68      2352\n",
            "\n",
            "    accuracy                           0.81      9769\n",
            "   macro avg       0.76      0.82      0.77      9769\n",
            "weighted avg       0.85      0.81      0.82      9769\n",
            "\n"
          ]
        }
      ],
      "source": [
        "y_pred = clf.predict(x_val)\n",
        "print(classification_report(y_val,y_pred))"
      ]
    },
    {
      "cell_type": "markdown",
      "metadata": {
        "id": "Z59UfCh9DXVn"
      },
      "source": [
        "### CONFUSION MATRIX"
      ]
    },
    {
      "cell_type": "code",
      "execution_count": null,
      "metadata": {
        "colab": {
          "base_uri": "https://localhost:8080/"
        },
        "id": "x727tB32_nS1",
        "outputId": "8c827528-20ef-49fc-9170-6133bf2c3505"
      },
      "outputs": [
        {
          "output_type": "execute_result",
          "data": {
            "text/plain": [
              "array([[5896, 1521],\n",
              "       [ 349, 2003]])"
            ]
          },
          "metadata": {},
          "execution_count": 89
        }
      ],
      "source": [
        "confusion_matrix(y_val,y_pred)"
      ]
    },
    {
      "cell_type": "markdown",
      "metadata": {
        "id": "WF4zOfpzDc93"
      },
      "source": [
        "### Evaluation on test data (probability)"
      ]
    },
    {
      "cell_type": "code",
      "execution_count": null,
      "metadata": {
        "id": "VHJzB_XDCWoL",
        "colab": {
          "base_uri": "https://localhost:8080/"
        },
        "outputId": "4852a853-89b6-47c2-def8-1d0f6f7da2d8"
      },
      "outputs": [
        {
          "output_type": "execute_result",
          "data": {
            "text/plain": [
              "array([[0.50889865, 0.49110135],\n",
              "       [0.92894119, 0.07105881],\n",
              "       [0.91827249, 0.08172751],\n",
              "       ...,\n",
              "       [0.12415709, 0.87584291],\n",
              "       [0.90598393, 0.09401607],\n",
              "       [0.78712034, 0.21287966]])"
            ]
          },
          "metadata": {},
          "execution_count": 90
        }
      ],
      "source": [
        "y_prob = clf.predict_proba(x_val)\n",
        "y_prob"
      ]
    },
    {
      "cell_type": "code",
      "execution_count": null,
      "metadata": {
        "colab": {
          "base_uri": "https://localhost:8080/"
        },
        "id": "47Q89GZPG_AH",
        "outputId": "a65fb0a7-0a13-401f-fa43-01568331f691"
      },
      "outputs": [
        {
          "output_type": "execute_result",
          "data": {
            "text/plain": [
              "array([[6923,  494],\n",
              "       [ 890, 1462]])"
            ]
          },
          "metadata": {},
          "execution_count": 91
        }
      ],
      "source": [
        "y_pred_t = y_prob[:,1]>0.7\n",
        "confusion_matrix(y_val,y_pred_t)"
      ]
    },
    {
      "cell_type": "markdown",
      "metadata": {
        "id": "7MtzQG9aC_lz"
      },
      "source": [
        "### EVALUATION ON TRAIN"
      ]
    },
    {
      "cell_type": "code",
      "execution_count": null,
      "metadata": {
        "id": "IJWe0UOo_9VK",
        "colab": {
          "base_uri": "https://localhost:8080/"
        },
        "outputId": "7516664c-c2d8-49fa-bc78-8d0a76b618db"
      },
      "outputs": [
        {
          "output_type": "stream",
          "name": "stdout",
          "text": [
            "              precision    recall  f1-score   support\n",
            "\n",
            "           0       0.90      0.81      0.85     17303\n",
            "           1       0.83      0.91      0.87     17303\n",
            "\n",
            "    accuracy                           0.86     34606\n",
            "   macro avg       0.86      0.86      0.86     34606\n",
            "weighted avg       0.86      0.86      0.86     34606\n",
            "\n"
          ]
        },
        {
          "output_type": "execute_result",
          "data": {
            "text/plain": [
              "array([[13996,  3307],\n",
              "       [ 1519, 15784]])"
            ]
          },
          "metadata": {},
          "execution_count": 93
        }
      ],
      "source": [
        "yy_pred = clf.predict(x_train)\n",
        "print(classification_report(y_train,yy_pred))\n",
        "confusion_matrix(y_train,yy_pred)"
      ]
    },
    {
      "cell_type": "markdown",
      "metadata": {
        "id": "LAQ-z-MrD5U3"
      },
      "source": [
        "### ROC"
      ]
    },
    {
      "cell_type": "code",
      "execution_count": null,
      "metadata": {
        "id": "1ikrON8SGfhi",
        "colab": {
          "base_uri": "https://localhost:8080/",
          "height": 316
        },
        "outputId": "06d5862d-4924-4efd-a4cf-0dfa69073e74"
      },
      "outputs": [
        {
          "output_type": "stream",
          "name": "stdout",
          "text": [
            "0.9099057059118645\n"
          ]
        },
        {
          "output_type": "execute_result",
          "data": {
            "text/plain": [
              "<sklearn.metrics._plot.roc_curve.RocCurveDisplay at 0x7f4f229aa510>"
            ]
          },
          "metadata": {},
          "execution_count": 137
        },
        {
          "output_type": "display_data",
          "data": {
            "text/plain": [
              "<Figure size 432x288 with 1 Axes>"
            ],
            "image/png": "[encoded data removed]"
          },
          "metadata": {
            "needs_background": "light"
          }
        }
      ],
      "source": [
        "from sklearn import metrics\n",
        "print(metrics.roc_auc_score(y_val, y_prob[:,1]))\n",
        "RocCurveDisplay.from_estimator(clf, x_val, y_val)"
      ]
    },
    {
      "cell_type": "markdown",
      "metadata": {
        "id": "K29pjLSTECkG"
      },
      "source": [
        "## PRECISION - RECALL"
      ]
    },
    {
      "cell_type": "code",
      "execution_count": null,
      "metadata": {
        "id": "pHOp06KOIOAP"
      },
      "outputs": [],
      "source": [
        "predictions = clf.predict(x_val)"
      ]
    },
    {
      "cell_type": "code",
      "execution_count": null,
      "metadata": {
        "id": "KDJq1jycI3Ib",
        "colab": {
          "base_uri": "https://localhost:8080/",
          "height": 297
        },
        "outputId": "6951c67e-3e41-44c3-8cbd-6a8d19d1450f"
      },
      "outputs": [
        {
          "output_type": "execute_result",
          "data": {
            "text/plain": [
              "<sklearn.metrics._plot.precision_recall_curve.PrecisionRecallDisplay at 0x7f4f22e82e90>"
            ]
          },
          "metadata": {},
          "execution_count": 96
        },
        {
          "output_type": "display_data",
          "data": {
            "text/plain": [
              "<Figure size 432x288 with 1 Axes>"
            ],
            "image/png": "[encoded data removed]"
          },
          "metadata": {
            "needs_background": "light"
          }
        }
      ],
      "source": [
        "precision, recall, _ = precision_recall_curve(y_val,predictions)\n",
        "disp = PrecisionRecallDisplay(precision=precision, recall=recall)\n",
        "disp.plot()"
      ]
    },
    {
      "cell_type": "markdown",
      "metadata": {
        "id": "KSIYRZGJMY0g"
      },
      "source": [
        "# Gradient Boosting\n",
        "\n",
        "class sklearn.ensemble.GradientBoostingClassifier(*, loss='deviance', learning_rate=0.1, n_estimators=100, subsample=1.0, criterion='friedman_mse', min_samples_split=2, min_samples_leaf=1, min_weight_fraction_leaf=0.0, max_depth=3, min_impurity_decrease=0.0, init=None, random_state=None, max_features=None, verbose=0, max_leaf_nodes=None, warm_start=False, validation_fraction=0.1, n_iter_no_change=None, tol=0.0001, ccp_alpha=0.0)"
      ]
    },
    {
      "cell_type": "code",
      "execution_count": null,
      "metadata": {
        "colab": {
          "base_uri": "https://localhost:8080/"
        },
        "id": "18CQZyVXMCr7",
        "outputId": "ac2b1624-1dae-4129-92e1-e0a8a97bb308"
      },
      "outputs": [
        {
          "output_type": "execute_result",
          "data": {
            "text/plain": [
              "GradientBoostingClassifier(learning_rate=0.05, n_estimators=220, subsample=0.5)"
            ]
          },
          "metadata": {},
          "execution_count": 128
        }
      ],
      "source": [
        "from sklearn.ensemble import GradientBoostingClassifier\n",
        "gbc = GradientBoostingClassifier(n_estimators=220, subsample=0.5, learning_rate=0.05)\n",
        "gbc.fit(x_train,y_train)"
      ]
    },
    {
      "cell_type": "markdown",
      "source": [
        "### Evaluation on validation data"
      ],
      "metadata": {
        "id": "RYdmNRZ7dpur"
      }
    },
    {
      "cell_type": "code",
      "source": [
        "y_pred = gbc.predict(x_val)\n",
        "print(classification_report(y_val,y_pred))"
      ],
      "metadata": {
        "colab": {
          "base_uri": "https://localhost:8080/"
        },
        "id": "myrZJGFodZH4",
        "outputId": "00d92313-9f8a-4fd8-a59b-e3b4e35eb976"
      },
      "execution_count": null,
      "outputs": [
        {
          "output_type": "stream",
          "name": "stdout",
          "text": [
            "              precision    recall  f1-score   support\n",
            "\n",
            "           0       0.94      0.81      0.87      7417\n",
            "           1       0.59      0.84      0.69      2352\n",
            "\n",
            "    accuracy                           0.82      9769\n",
            "   macro avg       0.77      0.83      0.78      9769\n",
            "weighted avg       0.86      0.82      0.83      9769\n",
            "\n"
          ]
        }
      ]
    },
    {
      "cell_type": "markdown",
      "source": [
        "### confusion matrix"
      ],
      "metadata": {
        "id": "zldLLZUydvEF"
      }
    },
    {
      "cell_type": "code",
      "source": [
        "confusion_matrix(y_val,y_pred)"
      ],
      "metadata": {
        "colab": {
          "base_uri": "https://localhost:8080/"
        },
        "id": "c9g4wLxFdnxV",
        "outputId": "ae059ca6-68f3-47e0-9d12-1548a1b95c01"
      },
      "execution_count": null,
      "outputs": [
        {
          "output_type": "execute_result",
          "data": {
            "text/plain": [
              "array([[6041, 1376],\n",
              "       [ 375, 1977]])"
            ]
          },
          "metadata": {},
          "execution_count": 130
        }
      ]
    },
    {
      "cell_type": "markdown",
      "source": [
        "### probability evaluation"
      ],
      "metadata": {
        "id": "X7eyaDhhd9gA"
      }
    },
    {
      "cell_type": "code",
      "execution_count": null,
      "metadata": {
        "id": "ntEuwBEHRj4T",
        "colab": {
          "base_uri": "https://localhost:8080/"
        },
        "outputId": "bb6aecc9-3576-4a10-dfbd-722a364a67e8"
      },
      "outputs": [
        {
          "output_type": "execute_result",
          "data": {
            "text/plain": [
              "array([[0.55092066, 0.44907934],\n",
              "       [0.95570334, 0.04429666],\n",
              "       [0.92670514, 0.07329486],\n",
              "       ...,\n",
              "       [0.10904332, 0.89095668],\n",
              "       [0.92239057, 0.07760943],\n",
              "       [0.8712866 , 0.1287134 ]])"
            ]
          },
          "metadata": {},
          "execution_count": 131
        }
      ],
      "source": [
        "predictions = gbc.predict_proba(x_val)\n",
        "# np.savetxt(\"sample.txt\", predictions, delimiter =\",\")\n",
        "predictions\n"
      ]
    },
    {
      "cell_type": "markdown",
      "source": [
        "### ROC"
      ],
      "metadata": {
        "id": "INsGLFPKhWz7"
      }
    },
    {
      "cell_type": "code",
      "source": [
        "# from sklearn import metrics\n",
        "print(metrics.roc_auc_score(y_val, y_prob[:,1]))\n",
        "RocCurveDisplay.from_estimator(gbc, x_val, y_val)"
      ],
      "metadata": {
        "colab": {
          "base_uri": "https://localhost:8080/",
          "height": 316
        },
        "id": "BTk19YZAgB2W",
        "outputId": "981cdc52-a416-40a9-869b-7e6662efdd58"
      },
      "execution_count": null,
      "outputs": [
        {
          "output_type": "stream",
          "name": "stdout",
          "text": [
            "0.9099057059118645\n"
          ]
        },
        {
          "output_type": "execute_result",
          "data": {
            "text/plain": [
              "<sklearn.metrics._plot.roc_curve.RocCurveDisplay at 0x7f4f229d5c10>"
            ]
          },
          "metadata": {},
          "execution_count": 134
        },
        {
          "output_type": "display_data",
          "data": {
            "text/plain": [
              "<Figure size 432x288 with 1 Axes>"
            ],
            "image/png": "[encoded data removed]"
          },
          "metadata": {
            "needs_background": "light"
          }
        }
      ]
    }
  ],
  "metadata": {
    "colab": {
      "provenance": []
    },
    "kernelspec": {
      "display_name": "Python 3 (ipykernel)",
      "language": "python",
      "name": "python3"
    },
    "language_info": {
      "codemirror_mode": {
        "name": "ipython",
        "version": 3
      },
      "file_extension": ".py",
      "mimetype": "text/x-python",
      "name": "python",
      "nbconvert_exporter": "python",
      "pygments_lexer": "ipython3",
      "version": "3.7.11"
    },
    "accelerator": "GPU"
  },
  "nbformat": 4,
  "nbformat_minor": 0
}